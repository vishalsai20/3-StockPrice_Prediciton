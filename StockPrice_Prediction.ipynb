{
  "cells": [
    {
      "cell_type": "code",
      "execution_count": 36,
      "metadata": {
        "id": "LPMC8xoX7Uv3"
      },
      "outputs": [],
      "source": [
        "#Importing the required Libraries.\n",
        "\n",
        "import pandas as pd\n",
        "import numpy as np\n",
        "import yfinance as yf\n",
        "import matplotlib.pyplot as plt\n",
        "%matplotlib inline"
      ]
    },
    {
      "cell_type": "code",
      "execution_count": 37,
      "metadata": {
        "colab": {
          "base_uri": "https://localhost:8080/"
        },
        "id": "txyZbYmj7zE1",
        "outputId": "c70efd01-0da6-4bf3-9ece-6970fd8ad9c1"
      },
      "outputs": [
        {
          "name": "stderr",
          "output_type": "stream",
          "text": [
            "\r[*********************100%%**********************]  1 of 1 completed\n"
          ]
        }
      ],
      "source": [
        "#Extracting the data from YahooFinance database.\n",
        "df = yf.download('GOOG','2008-01-01','2018-01-01')"
      ]
    },
    {
      "cell_type": "code",
      "execution_count": 38,
      "metadata": {
        "colab": {
          "base_uri": "https://localhost:8080/",
          "height": 237
        },
        "id": "Y8-96Rq7-vGo",
        "outputId": "51f8150e-9113-408b-c0aa-3cd363541731"
      },
      "outputs": [
        {
          "data": {
            "application/vnd.google.colaboratory.intrinsic+json": {
              "summary": "{\n  \"name\": \"df\",\n  \"rows\": 2518,\n  \"fields\": [\n    {\n      \"column\": \"Open\",\n      \"properties\": {\n        \"dtype\": \"number\",\n        \"std\": 11.670431510599014,\n        \"min\": 6.538242816925049,\n        \"max\": 53.7599983215332,\n        \"num_unique_values\": 2444,\n        \"samples\": [\n          28.100849151611328,\n          31.06100082397461,\n          39.54499816894531\n        ],\n        \"semantic_type\": \"\",\n        \"description\": \"\"\n      }\n    },\n    {\n      \"column\": \"High\",\n      \"properties\": {\n        \"dtype\": \"number\",\n        \"std\": 11.727815691452708,\n        \"min\": 6.709103107452393,\n        \"max\": 53.92449951171875,\n        \"num_unique_values\": 2443,\n        \"samples\": [\n          30.390090942382812,\n          26.415000915527344,\n          22.286962509155273\n        ],\n        \"semantic_type\": \"\",\n        \"description\": \"\"\n      }\n    },\n    {\n      \"column\": \"Low\",\n      \"properties\": {\n        \"dtype\": \"number\",\n        \"std\": 11.60931776144155,\n        \"min\": 6.159412860870361,\n        \"max\": 53.1775016784668,\n        \"num_unique_values\": 2460,\n        \"samples\": [\n          37.5,\n          28.675018310546875,\n          13.861044883728027\n        ],\n        \"semantic_type\": \"\",\n        \"description\": \"\"\n      }\n    },\n    {\n      \"column\": \"Close\",\n      \"properties\": {\n        \"dtype\": \"number\",\n        \"std\": 11.676032927866094,\n        \"min\": 6.411965847015381,\n        \"max\": 53.856998443603516,\n        \"num_unique_values\": 2475,\n        \"samples\": [\n          15.007497787475586,\n          37.23849868774414,\n          15.151956558227539\n        ],\n        \"semantic_type\": \"\",\n        \"description\": \"\"\n      }\n    },\n    {\n      \"column\": \"Adj Close\",\n      \"properties\": {\n        \"dtype\": \"number\",\n        \"std\": 11.676032927866094,\n        \"min\": 6.411965847015381,\n        \"max\": 53.856998443603516,\n        \"num_unique_values\": 2475,\n        \"samples\": [\n          15.007497787475586,\n          37.23849868774414,\n          15.151956558227539\n        ],\n        \"semantic_type\": \"\",\n        \"description\": \"\"\n      }\n    },\n    {\n      \"column\": \"Volume\",\n      \"properties\": {\n        \"dtype\": \"number\",\n        \"std\": 87391307,\n        \"min\": 158434,\n        \"max\": 934983461,\n        \"num_unique_values\": 2478,\n        \"samples\": [\n          45634948,\n          132667413,\n          30876000\n        ],\n        \"semantic_type\": \"\",\n        \"description\": \"\"\n      }\n    }\n  ]\n}",
              "type": "dataframe",
              "variable_name": "df"
            },
            "text/html": [
              "\n",
              "  <div id=\"df-9431070d-85fc-432b-b479-7a0f22640a8e\" class=\"colab-df-container\">\n",
              "    <div>\n",
              "<style scoped>\n",
              "    .dataframe tbody tr th:only-of-type {\n",
              "        vertical-align: middle;\n",
              "    }\n",
              "\n",
              "    .dataframe tbody tr th {\n",
              "        vertical-align: top;\n",
              "    }\n",
              "\n",
              "    .dataframe thead th {\n",
              "        text-align: right;\n",
              "    }\n",
              "</style>\n",
              "<table border=\"1\" class=\"dataframe\">\n",
              "  <thead>\n",
              "    <tr style=\"text-align: right;\">\n",
              "      <th></th>\n",
              "      <th>Open</th>\n",
              "      <th>High</th>\n",
              "      <th>Low</th>\n",
              "      <th>Close</th>\n",
              "      <th>Adj Close</th>\n",
              "      <th>Volume</th>\n",
              "    </tr>\n",
              "    <tr>\n",
              "      <th>Date</th>\n",
              "      <th></th>\n",
              "      <th></th>\n",
              "      <th></th>\n",
              "      <th></th>\n",
              "      <th></th>\n",
              "      <th></th>\n",
              "    </tr>\n",
              "  </thead>\n",
              "  <tbody>\n",
              "    <tr>\n",
              "      <th>2008-01-02</th>\n",
              "      <td>17.257067</td>\n",
              "      <td>17.369146</td>\n",
              "      <td>16.879980</td>\n",
              "      <td>17.065783</td>\n",
              "      <td>17.065783</td>\n",
              "      <td>172921733</td>\n",
              "    </tr>\n",
              "    <tr>\n",
              "      <th>2008-01-03</th>\n",
              "      <td>17.067528</td>\n",
              "      <td>17.107128</td>\n",
              "      <td>16.849842</td>\n",
              "      <td>17.069269</td>\n",
              "      <td>17.069269</td>\n",
              "      <td>130587647</td>\n",
              "    </tr>\n",
              "    <tr>\n",
              "      <th>2008-01-04</th>\n",
              "      <td>16.928797</td>\n",
              "      <td>16.960428</td>\n",
              "      <td>16.313852</td>\n",
              "      <td>16.363665</td>\n",
              "      <td>16.363665</td>\n",
              "      <td>215195594</td>\n",
              "    </tr>\n",
              "    <tr>\n",
              "      <th>2008-01-07</th>\n",
              "      <td>16.287451</td>\n",
              "      <td>16.495173</td>\n",
              "      <td>15.874249</td>\n",
              "      <td>16.170637</td>\n",
              "      <td>16.170637</td>\n",
              "      <td>257096061</td>\n",
              "    </tr>\n",
              "    <tr>\n",
              "      <th>2008-01-08</th>\n",
              "      <td>16.264038</td>\n",
              "      <td>16.437389</td>\n",
              "      <td>15.716092</td>\n",
              "      <td>15.733029</td>\n",
              "      <td>15.733029</td>\n",
              "      <td>214364490</td>\n",
              "    </tr>\n",
              "  </tbody>\n",
              "</table>\n",
              "</div>\n",
              "    <div class=\"colab-df-buttons\">\n",
              "\n",
              "  <div class=\"colab-df-container\">\n",
              "    <button class=\"colab-df-convert\" onclick=\"convertToInteractive('df-9431070d-85fc-432b-b479-7a0f22640a8e')\"\n",
              "            title=\"Convert this dataframe to an interactive table.\"\n",
              "            style=\"display:none;\">\n",
              "\n",
              "  <svg xmlns=\"http://www.w3.org/2000/svg\" height=\"24px\" viewBox=\"0 -960 960 960\">\n",
              "    <path d=\"M120-120v-720h720v720H120Zm60-500h600v-160H180v160Zm220 220h160v-160H400v160Zm0 220h160v-160H400v160ZM180-400h160v-160H180v160Zm440 0h160v-160H620v160ZM180-180h160v-160H180v160Zm440 0h160v-160H620v160Z\"/>\n",
              "  </svg>\n",
              "    </button>\n",
              "\n",
              "  <style>\n",
              "    .colab-df-container {\n",
              "      display:flex;\n",
              "      gap: 12px;\n",
              "    }\n",
              "\n",
              "    .colab-df-convert {\n",
              "      background-color: #E8F0FE;\n",
              "      border: none;\n",
              "      border-radius: 50%;\n",
              "      cursor: pointer;\n",
              "      display: none;\n",
              "      fill: #1967D2;\n",
              "      height: 32px;\n",
              "      padding: 0 0 0 0;\n",
              "      width: 32px;\n",
              "    }\n",
              "\n",
              "    .colab-df-convert:hover {\n",
              "      background-color: #E2EBFA;\n",
              "      box-shadow: 0px 1px 2px rgba(60, 64, 67, 0.3), 0px 1px 3px 1px rgba(60, 64, 67, 0.15);\n",
              "      fill: #174EA6;\n",
              "    }\n",
              "\n",
              "    .colab-df-buttons div {\n",
              "      margin-bottom: 4px;\n",
              "    }\n",
              "\n",
              "    [theme=dark] .colab-df-convert {\n",
              "      background-color: #3B4455;\n",
              "      fill: #D2E3FC;\n",
              "    }\n",
              "\n",
              "    [theme=dark] .colab-df-convert:hover {\n",
              "      background-color: #434B5C;\n",
              "      box-shadow: 0px 1px 3px 1px rgba(0, 0, 0, 0.15);\n",
              "      filter: drop-shadow(0px 1px 2px rgba(0, 0, 0, 0.3));\n",
              "      fill: #FFFFFF;\n",
              "    }\n",
              "  </style>\n",
              "\n",
              "    <script>\n",
              "      const buttonEl =\n",
              "        document.querySelector('#df-9431070d-85fc-432b-b479-7a0f22640a8e button.colab-df-convert');\n",
              "      buttonEl.style.display =\n",
              "        google.colab.kernel.accessAllowed ? 'block' : 'none';\n",
              "\n",
              "      async function convertToInteractive(key) {\n",
              "        const element = document.querySelector('#df-9431070d-85fc-432b-b479-7a0f22640a8e');\n",
              "        const dataTable =\n",
              "          await google.colab.kernel.invokeFunction('convertToInteractive',\n",
              "                                                    [key], {});\n",
              "        if (!dataTable) return;\n",
              "\n",
              "        const docLinkHtml = 'Like what you see? Visit the ' +\n",
              "          '<a target=\"_blank\" href=https://colab.research.google.com/notebooks/data_table.ipynb>data table notebook</a>'\n",
              "          + ' to learn more about interactive tables.';\n",
              "        element.innerHTML = '';\n",
              "        dataTable['output_type'] = 'display_data';\n",
              "        await google.colab.output.renderOutput(dataTable, element);\n",
              "        const docLink = document.createElement('div');\n",
              "        docLink.innerHTML = docLinkHtml;\n",
              "        element.appendChild(docLink);\n",
              "      }\n",
              "    </script>\n",
              "  </div>\n",
              "\n",
              "\n",
              "<div id=\"df-0f478b1b-24aa-429b-a841-27b9bee20b72\">\n",
              "  <button class=\"colab-df-quickchart\" onclick=\"quickchart('df-0f478b1b-24aa-429b-a841-27b9bee20b72')\"\n",
              "            title=\"Suggest charts\"\n",
              "            style=\"display:none;\">\n",
              "\n",
              "<svg xmlns=\"http://www.w3.org/2000/svg\" height=\"24px\"viewBox=\"0 0 24 24\"\n",
              "     width=\"24px\">\n",
              "    <g>\n",
              "        <path d=\"M19 3H5c-1.1 0-2 .9-2 2v14c0 1.1.9 2 2 2h14c1.1 0 2-.9 2-2V5c0-1.1-.9-2-2-2zM9 17H7v-7h2v7zm4 0h-2V7h2v10zm4 0h-2v-4h2v4z\"/>\n",
              "    </g>\n",
              "</svg>\n",
              "  </button>\n",
              "\n",
              "<style>\n",
              "  .colab-df-quickchart {\n",
              "      --bg-color: #E8F0FE;\n",
              "      --fill-color: #1967D2;\n",
              "      --hover-bg-color: #E2EBFA;\n",
              "      --hover-fill-color: #174EA6;\n",
              "      --disabled-fill-color: #AAA;\n",
              "      --disabled-bg-color: #DDD;\n",
              "  }\n",
              "\n",
              "  [theme=dark] .colab-df-quickchart {\n",
              "      --bg-color: #3B4455;\n",
              "      --fill-color: #D2E3FC;\n",
              "      --hover-bg-color: #434B5C;\n",
              "      --hover-fill-color: #FFFFFF;\n",
              "      --disabled-bg-color: #3B4455;\n",
              "      --disabled-fill-color: #666;\n",
              "  }\n",
              "\n",
              "  .colab-df-quickchart {\n",
              "    background-color: var(--bg-color);\n",
              "    border: none;\n",
              "    border-radius: 50%;\n",
              "    cursor: pointer;\n",
              "    display: none;\n",
              "    fill: var(--fill-color);\n",
              "    height: 32px;\n",
              "    padding: 0;\n",
              "    width: 32px;\n",
              "  }\n",
              "\n",
              "  .colab-df-quickchart:hover {\n",
              "    background-color: var(--hover-bg-color);\n",
              "    box-shadow: 0 1px 2px rgba(60, 64, 67, 0.3), 0 1px 3px 1px rgba(60, 64, 67, 0.15);\n",
              "    fill: var(--button-hover-fill-color);\n",
              "  }\n",
              "\n",
              "  .colab-df-quickchart-complete:disabled,\n",
              "  .colab-df-quickchart-complete:disabled:hover {\n",
              "    background-color: var(--disabled-bg-color);\n",
              "    fill: var(--disabled-fill-color);\n",
              "    box-shadow: none;\n",
              "  }\n",
              "\n",
              "  .colab-df-spinner {\n",
              "    border: 2px solid var(--fill-color);\n",
              "    border-color: transparent;\n",
              "    border-bottom-color: var(--fill-color);\n",
              "    animation:\n",
              "      spin 1s steps(1) infinite;\n",
              "  }\n",
              "\n",
              "  @keyframes spin {\n",
              "    0% {\n",
              "      border-color: transparent;\n",
              "      border-bottom-color: var(--fill-color);\n",
              "      border-left-color: var(--fill-color);\n",
              "    }\n",
              "    20% {\n",
              "      border-color: transparent;\n",
              "      border-left-color: var(--fill-color);\n",
              "      border-top-color: var(--fill-color);\n",
              "    }\n",
              "    30% {\n",
              "      border-color: transparent;\n",
              "      border-left-color: var(--fill-color);\n",
              "      border-top-color: var(--fill-color);\n",
              "      border-right-color: var(--fill-color);\n",
              "    }\n",
              "    40% {\n",
              "      border-color: transparent;\n",
              "      border-right-color: var(--fill-color);\n",
              "      border-top-color: var(--fill-color);\n",
              "    }\n",
              "    60% {\n",
              "      border-color: transparent;\n",
              "      border-right-color: var(--fill-color);\n",
              "    }\n",
              "    80% {\n",
              "      border-color: transparent;\n",
              "      border-right-color: var(--fill-color);\n",
              "      border-bottom-color: var(--fill-color);\n",
              "    }\n",
              "    90% {\n",
              "      border-color: transparent;\n",
              "      border-bottom-color: var(--fill-color);\n",
              "    }\n",
              "  }\n",
              "</style>\n",
              "\n",
              "  <script>\n",
              "    async function quickchart(key) {\n",
              "      const quickchartButtonEl =\n",
              "        document.querySelector('#' + key + ' button');\n",
              "      quickchartButtonEl.disabled = true;  // To prevent multiple clicks.\n",
              "      quickchartButtonEl.classList.add('colab-df-spinner');\n",
              "      try {\n",
              "        const charts = await google.colab.kernel.invokeFunction(\n",
              "            'suggestCharts', [key], {});\n",
              "      } catch (error) {\n",
              "        console.error('Error during call to suggestCharts:', error);\n",
              "      }\n",
              "      quickchartButtonEl.classList.remove('colab-df-spinner');\n",
              "      quickchartButtonEl.classList.add('colab-df-quickchart-complete');\n",
              "    }\n",
              "    (() => {\n",
              "      let quickchartButtonEl =\n",
              "        document.querySelector('#df-0f478b1b-24aa-429b-a841-27b9bee20b72 button');\n",
              "      quickchartButtonEl.style.display =\n",
              "        google.colab.kernel.accessAllowed ? 'block' : 'none';\n",
              "    })();\n",
              "  </script>\n",
              "</div>\n",
              "\n",
              "    </div>\n",
              "  </div>\n"
            ],
            "text/plain": [
              "                 Open       High        Low      Close  Adj Close     Volume\n",
              "Date                                                                        \n",
              "2008-01-02  17.257067  17.369146  16.879980  17.065783  17.065783  172921733\n",
              "2008-01-03  17.067528  17.107128  16.849842  17.069269  17.069269  130587647\n",
              "2008-01-04  16.928797  16.960428  16.313852  16.363665  16.363665  215195594\n",
              "2008-01-07  16.287451  16.495173  15.874249  16.170637  16.170637  257096061\n",
              "2008-01-08  16.264038  16.437389  15.716092  15.733029  15.733029  214364490"
            ]
          },
          "execution_count": 38,
          "metadata": {},
          "output_type": "execute_result"
        }
      ],
      "source": [
        "#Checking the first few rows of the dataset.\n",
        "df.head()"
      ]
    },
    {
      "cell_type": "code",
      "execution_count": 39,
      "metadata": {
        "colab": {
          "base_uri": "https://localhost:8080/",
          "height": 237
        },
        "id": "jkgZFvyzAvIV",
        "outputId": "07c1a475-9a18-426c-de47-b2eee77f6fd5"
      },
      "outputs": [
        {
          "data": {
            "application/vnd.google.colaboratory.intrinsic+json": {
              "summary": "{\n  \"name\": \"df\",\n  \"rows\": 5,\n  \"fields\": [\n    {\n      \"column\": \"Open\",\n      \"properties\": {\n        \"dtype\": \"number\",\n        \"std\": 0.2878641154290257,\n        \"min\": 52.33599853515625,\n        \"max\": 53.05550003051758,\n        \"num_unique_values\": 5,\n        \"samples\": [\n          52.903499603271484,\n          52.33599853515625,\n          52.86949920654297\n        ],\n        \"semantic_type\": \"\",\n        \"description\": \"\"\n      }\n    },\n    {\n      \"column\": \"High\",\n      \"properties\": {\n        \"dtype\": \"number\",\n        \"std\": 0.2748721782195652,\n        \"min\": 52.48500061035156,\n        \"max\": 53.209999084472656,\n        \"num_unique_values\": 5,\n        \"samples\": [\n          53.00600051879883,\n          52.48500061035156,\n          52.91849899291992\n        ],\n        \"semantic_type\": \"\",\n        \"description\": \"\"\n      }\n    },\n    {\n      \"column\": \"Low\",\n      \"properties\": {\n        \"dtype\": \"number\",\n        \"std\": 0.30096253220174735,\n        \"min\": 52.23849868774414,\n        \"max\": 52.97200012207031,\n        \"num_unique_values\": 5,\n        \"samples\": [\n          52.5099983215332,\n          52.244998931884766,\n          52.40250015258789\n        ],\n        \"semantic_type\": \"\",\n        \"description\": \"\"\n      }\n    },\n    {\n      \"column\": \"Close\",\n      \"properties\": {\n        \"dtype\": \"number\",\n        \"std\": 0.29734286066062604,\n        \"min\": 52.31999969482422,\n        \"max\": 53.00600051879883,\n        \"num_unique_values\": 5,\n        \"samples\": [\n          52.83700180053711,\n          52.31999969482422,\n          52.46849822998047\n        ],\n        \"semantic_type\": \"\",\n        \"description\": \"\"\n      }\n    },\n    {\n      \"column\": \"Adj Close\",\n      \"properties\": {\n        \"dtype\": \"number\",\n        \"std\": 0.29734286066062604,\n        \"min\": 52.31999969482422,\n        \"max\": 53.00600051879883,\n        \"num_unique_values\": 5,\n        \"samples\": [\n          52.83700180053711,\n          52.31999969482422,\n          52.46849822998047\n        ],\n        \"semantic_type\": \"\",\n        \"description\": \"\"\n      }\n    },\n    {\n      \"column\": \"Volume\",\n      \"properties\": {\n        \"dtype\": \"number\",\n        \"std\": 4275755,\n        \"min\": 15102000,\n        \"max\": 25438000,\n        \"num_unique_values\": 5,\n        \"samples\": [\n          15212000,\n          17750000,\n          25438000\n        ],\n        \"semantic_type\": \"\",\n        \"description\": \"\"\n      }\n    }\n  ]\n}",
              "type": "dataframe"
            },
            "text/html": [
              "\n",
              "  <div id=\"df-c37399a1-3a1c-45cf-8966-208fd8422f44\" class=\"colab-df-container\">\n",
              "    <div>\n",
              "<style scoped>\n",
              "    .dataframe tbody tr th:only-of-type {\n",
              "        vertical-align: middle;\n",
              "    }\n",
              "\n",
              "    .dataframe tbody tr th {\n",
              "        vertical-align: top;\n",
              "    }\n",
              "\n",
              "    .dataframe thead th {\n",
              "        text-align: right;\n",
              "    }\n",
              "</style>\n",
              "<table border=\"1\" class=\"dataframe\">\n",
              "  <thead>\n",
              "    <tr style=\"text-align: right;\">\n",
              "      <th></th>\n",
              "      <th>Open</th>\n",
              "      <th>High</th>\n",
              "      <th>Low</th>\n",
              "      <th>Close</th>\n",
              "      <th>Adj Close</th>\n",
              "      <th>Volume</th>\n",
              "    </tr>\n",
              "    <tr>\n",
              "      <th>Date</th>\n",
              "      <th></th>\n",
              "      <th></th>\n",
              "      <th></th>\n",
              "      <th></th>\n",
              "      <th></th>\n",
              "      <th></th>\n",
              "    </tr>\n",
              "  </thead>\n",
              "  <tbody>\n",
              "    <tr>\n",
              "      <th>2017-12-22</th>\n",
              "      <td>53.055500</td>\n",
              "      <td>53.209999</td>\n",
              "      <td>52.972000</td>\n",
              "      <td>53.006001</td>\n",
              "      <td>53.006001</td>\n",
              "      <td>15102000</td>\n",
              "    </tr>\n",
              "    <tr>\n",
              "      <th>2017-12-26</th>\n",
              "      <td>52.903500</td>\n",
              "      <td>53.006001</td>\n",
              "      <td>52.509998</td>\n",
              "      <td>52.837002</td>\n",
              "      <td>52.837002</td>\n",
              "      <td>15212000</td>\n",
              "    </tr>\n",
              "    <tr>\n",
              "      <th>2017-12-27</th>\n",
              "      <td>52.869499</td>\n",
              "      <td>52.918499</td>\n",
              "      <td>52.402500</td>\n",
              "      <td>52.468498</td>\n",
              "      <td>52.468498</td>\n",
              "      <td>25438000</td>\n",
              "    </tr>\n",
              "    <tr>\n",
              "      <th>2017-12-28</th>\n",
              "      <td>52.580002</td>\n",
              "      <td>52.737499</td>\n",
              "      <td>52.238499</td>\n",
              "      <td>52.407001</td>\n",
              "      <td>52.407001</td>\n",
              "      <td>16742000</td>\n",
              "    </tr>\n",
              "    <tr>\n",
              "      <th>2017-12-29</th>\n",
              "      <td>52.335999</td>\n",
              "      <td>52.485001</td>\n",
              "      <td>52.244999</td>\n",
              "      <td>52.320000</td>\n",
              "      <td>52.320000</td>\n",
              "      <td>17750000</td>\n",
              "    </tr>\n",
              "  </tbody>\n",
              "</table>\n",
              "</div>\n",
              "    <div class=\"colab-df-buttons\">\n",
              "\n",
              "  <div class=\"colab-df-container\">\n",
              "    <button class=\"colab-df-convert\" onclick=\"convertToInteractive('df-c37399a1-3a1c-45cf-8966-208fd8422f44')\"\n",
              "            title=\"Convert this dataframe to an interactive table.\"\n",
              "            style=\"display:none;\">\n",
              "\n",
              "  <svg xmlns=\"http://www.w3.org/2000/svg\" height=\"24px\" viewBox=\"0 -960 960 960\">\n",
              "    <path d=\"M120-120v-720h720v720H120Zm60-500h600v-160H180v160Zm220 220h160v-160H400v160Zm0 220h160v-160H400v160ZM180-400h160v-160H180v160Zm440 0h160v-160H620v160ZM180-180h160v-160H180v160Zm440 0h160v-160H620v160Z\"/>\n",
              "  </svg>\n",
              "    </button>\n",
              "\n",
              "  <style>\n",
              "    .colab-df-container {\n",
              "      display:flex;\n",
              "      gap: 12px;\n",
              "    }\n",
              "\n",
              "    .colab-df-convert {\n",
              "      background-color: #E8F0FE;\n",
              "      border: none;\n",
              "      border-radius: 50%;\n",
              "      cursor: pointer;\n",
              "      display: none;\n",
              "      fill: #1967D2;\n",
              "      height: 32px;\n",
              "      padding: 0 0 0 0;\n",
              "      width: 32px;\n",
              "    }\n",
              "\n",
              "    .colab-df-convert:hover {\n",
              "      background-color: #E2EBFA;\n",
              "      box-shadow: 0px 1px 2px rgba(60, 64, 67, 0.3), 0px 1px 3px 1px rgba(60, 64, 67, 0.15);\n",
              "      fill: #174EA6;\n",
              "    }\n",
              "\n",
              "    .colab-df-buttons div {\n",
              "      margin-bottom: 4px;\n",
              "    }\n",
              "\n",
              "    [theme=dark] .colab-df-convert {\n",
              "      background-color: #3B4455;\n",
              "      fill: #D2E3FC;\n",
              "    }\n",
              "\n",
              "    [theme=dark] .colab-df-convert:hover {\n",
              "      background-color: #434B5C;\n",
              "      box-shadow: 0px 1px 3px 1px rgba(0, 0, 0, 0.15);\n",
              "      filter: drop-shadow(0px 1px 2px rgba(0, 0, 0, 0.3));\n",
              "      fill: #FFFFFF;\n",
              "    }\n",
              "  </style>\n",
              "\n",
              "    <script>\n",
              "      const buttonEl =\n",
              "        document.querySelector('#df-c37399a1-3a1c-45cf-8966-208fd8422f44 button.colab-df-convert');\n",
              "      buttonEl.style.display =\n",
              "        google.colab.kernel.accessAllowed ? 'block' : 'none';\n",
              "\n",
              "      async function convertToInteractive(key) {\n",
              "        const element = document.querySelector('#df-c37399a1-3a1c-45cf-8966-208fd8422f44');\n",
              "        const dataTable =\n",
              "          await google.colab.kernel.invokeFunction('convertToInteractive',\n",
              "                                                    [key], {});\n",
              "        if (!dataTable) return;\n",
              "\n",
              "        const docLinkHtml = 'Like what you see? Visit the ' +\n",
              "          '<a target=\"_blank\" href=https://colab.research.google.com/notebooks/data_table.ipynb>data table notebook</a>'\n",
              "          + ' to learn more about interactive tables.';\n",
              "        element.innerHTML = '';\n",
              "        dataTable['output_type'] = 'display_data';\n",
              "        await google.colab.output.renderOutput(dataTable, element);\n",
              "        const docLink = document.createElement('div');\n",
              "        docLink.innerHTML = docLinkHtml;\n",
              "        element.appendChild(docLink);\n",
              "      }\n",
              "    </script>\n",
              "  </div>\n",
              "\n",
              "\n",
              "<div id=\"df-ebb0e729-ecd5-4424-af84-ff7f88c92b83\">\n",
              "  <button class=\"colab-df-quickchart\" onclick=\"quickchart('df-ebb0e729-ecd5-4424-af84-ff7f88c92b83')\"\n",
              "            title=\"Suggest charts\"\n",
              "            style=\"display:none;\">\n",
              "\n",
              "<svg xmlns=\"http://www.w3.org/2000/svg\" height=\"24px\"viewBox=\"0 0 24 24\"\n",
              "     width=\"24px\">\n",
              "    <g>\n",
              "        <path d=\"M19 3H5c-1.1 0-2 .9-2 2v14c0 1.1.9 2 2 2h14c1.1 0 2-.9 2-2V5c0-1.1-.9-2-2-2zM9 17H7v-7h2v7zm4 0h-2V7h2v10zm4 0h-2v-4h2v4z\"/>\n",
              "    </g>\n",
              "</svg>\n",
              "  </button>\n",
              "\n",
              "<style>\n",
              "  .colab-df-quickchart {\n",
              "      --bg-color: #E8F0FE;\n",
              "      --fill-color: #1967D2;\n",
              "      --hover-bg-color: #E2EBFA;\n",
              "      --hover-fill-color: #174EA6;\n",
              "      --disabled-fill-color: #AAA;\n",
              "      --disabled-bg-color: #DDD;\n",
              "  }\n",
              "\n",
              "  [theme=dark] .colab-df-quickchart {\n",
              "      --bg-color: #3B4455;\n",
              "      --fill-color: #D2E3FC;\n",
              "      --hover-bg-color: #434B5C;\n",
              "      --hover-fill-color: #FFFFFF;\n",
              "      --disabled-bg-color: #3B4455;\n",
              "      --disabled-fill-color: #666;\n",
              "  }\n",
              "\n",
              "  .colab-df-quickchart {\n",
              "    background-color: var(--bg-color);\n",
              "    border: none;\n",
              "    border-radius: 50%;\n",
              "    cursor: pointer;\n",
              "    display: none;\n",
              "    fill: var(--fill-color);\n",
              "    height: 32px;\n",
              "    padding: 0;\n",
              "    width: 32px;\n",
              "  }\n",
              "\n",
              "  .colab-df-quickchart:hover {\n",
              "    background-color: var(--hover-bg-color);\n",
              "    box-shadow: 0 1px 2px rgba(60, 64, 67, 0.3), 0 1px 3px 1px rgba(60, 64, 67, 0.15);\n",
              "    fill: var(--button-hover-fill-color);\n",
              "  }\n",
              "\n",
              "  .colab-df-quickchart-complete:disabled,\n",
              "  .colab-df-quickchart-complete:disabled:hover {\n",
              "    background-color: var(--disabled-bg-color);\n",
              "    fill: var(--disabled-fill-color);\n",
              "    box-shadow: none;\n",
              "  }\n",
              "\n",
              "  .colab-df-spinner {\n",
              "    border: 2px solid var(--fill-color);\n",
              "    border-color: transparent;\n",
              "    border-bottom-color: var(--fill-color);\n",
              "    animation:\n",
              "      spin 1s steps(1) infinite;\n",
              "  }\n",
              "\n",
              "  @keyframes spin {\n",
              "    0% {\n",
              "      border-color: transparent;\n",
              "      border-bottom-color: var(--fill-color);\n",
              "      border-left-color: var(--fill-color);\n",
              "    }\n",
              "    20% {\n",
              "      border-color: transparent;\n",
              "      border-left-color: var(--fill-color);\n",
              "      border-top-color: var(--fill-color);\n",
              "    }\n",
              "    30% {\n",
              "      border-color: transparent;\n",
              "      border-left-color: var(--fill-color);\n",
              "      border-top-color: var(--fill-color);\n",
              "      border-right-color: var(--fill-color);\n",
              "    }\n",
              "    40% {\n",
              "      border-color: transparent;\n",
              "      border-right-color: var(--fill-color);\n",
              "      border-top-color: var(--fill-color);\n",
              "    }\n",
              "    60% {\n",
              "      border-color: transparent;\n",
              "      border-right-color: var(--fill-color);\n",
              "    }\n",
              "    80% {\n",
              "      border-color: transparent;\n",
              "      border-right-color: var(--fill-color);\n",
              "      border-bottom-color: var(--fill-color);\n",
              "    }\n",
              "    90% {\n",
              "      border-color: transparent;\n",
              "      border-bottom-color: var(--fill-color);\n",
              "    }\n",
              "  }\n",
              "</style>\n",
              "\n",
              "  <script>\n",
              "    async function quickchart(key) {\n",
              "      const quickchartButtonEl =\n",
              "        document.querySelector('#' + key + ' button');\n",
              "      quickchartButtonEl.disabled = true;  // To prevent multiple clicks.\n",
              "      quickchartButtonEl.classList.add('colab-df-spinner');\n",
              "      try {\n",
              "        const charts = await google.colab.kernel.invokeFunction(\n",
              "            'suggestCharts', [key], {});\n",
              "      } catch (error) {\n",
              "        console.error('Error during call to suggestCharts:', error);\n",
              "      }\n",
              "      quickchartButtonEl.classList.remove('colab-df-spinner');\n",
              "      quickchartButtonEl.classList.add('colab-df-quickchart-complete');\n",
              "    }\n",
              "    (() => {\n",
              "      let quickchartButtonEl =\n",
              "        document.querySelector('#df-ebb0e729-ecd5-4424-af84-ff7f88c92b83 button');\n",
              "      quickchartButtonEl.style.display =\n",
              "        google.colab.kernel.accessAllowed ? 'block' : 'none';\n",
              "    })();\n",
              "  </script>\n",
              "</div>\n",
              "\n",
              "    </div>\n",
              "  </div>\n"
            ],
            "text/plain": [
              "                 Open       High        Low      Close  Adj Close    Volume\n",
              "Date                                                                       \n",
              "2017-12-22  53.055500  53.209999  52.972000  53.006001  53.006001  15102000\n",
              "2017-12-26  52.903500  53.006001  52.509998  52.837002  52.837002  15212000\n",
              "2017-12-27  52.869499  52.918499  52.402500  52.468498  52.468498  25438000\n",
              "2017-12-28  52.580002  52.737499  52.238499  52.407001  52.407001  16742000\n",
              "2017-12-29  52.335999  52.485001  52.244999  52.320000  52.320000  17750000"
            ]
          },
          "execution_count": 39,
          "metadata": {},
          "output_type": "execute_result"
        }
      ],
      "source": [
        "#Checking the bottom rows of the dataset\n",
        "df.tail()"
      ]
    },
    {
      "cell_type": "code",
      "execution_count": 40,
      "metadata": {
        "colab": {
          "base_uri": "https://localhost:8080/"
        },
        "id": "pKqGc43GBSkS",
        "outputId": "a2d32993-8704-46a5-e466-4eafefa52637"
      },
      "outputs": [
        {
          "data": {
            "text/plain": [
              "(2518, 6)"
            ]
          },
          "execution_count": 40,
          "metadata": {},
          "output_type": "execute_result"
        }
      ],
      "source": [
        "#Shape of the dataset\n",
        "df.shape"
      ]
    },
    {
      "cell_type": "markdown",
      "metadata": {
        "id": "0rVDiLQcBdic"
      },
      "source": [
        "This dataset contains 2518 rows with 6 columns."
      ]
    },
    {
      "cell_type": "code",
      "execution_count": 41,
      "metadata": {
        "colab": {
          "base_uri": "https://localhost:8080/"
        },
        "id": "KnxhvlysBcCv",
        "outputId": "76bf4133-cfad-4e56-935a-6a0da5724d02"
      },
      "outputs": [
        {
          "data": {
            "text/plain": [
              "Open         0\n",
              "High         0\n",
              "Low          0\n",
              "Close        0\n",
              "Adj Close    0\n",
              "Volume       0\n",
              "dtype: int64"
            ]
          },
          "execution_count": 41,
          "metadata": {},
          "output_type": "execute_result"
        }
      ],
      "source": [
        "df.isna().sum()"
      ]
    },
    {
      "cell_type": "markdown",
      "metadata": {
        "id": "VG4qXsOWBwXR"
      },
      "source": [
        "There are no null values in the dataset.\n",
        "\n",
        "\n",
        "Since our main focus is on the Closing Price from here we will be dealing with the Closing Price column of the dataset."
      ]
    },
    {
      "cell_type": "code",
      "execution_count": 42,
      "metadata": {
        "colab": {
          "base_uri": "https://localhost:8080/"
        },
        "id": "pwe2E-X8BuZR",
        "outputId": "101b1884-a6cf-4e07-f3c3-e57fcca02e01"
      },
      "outputs": [
        {
          "data": {
            "text/plain": [
              "count    2518.000000\n",
              "mean       22.934663\n",
              "std        11.676033\n",
              "min         6.411966\n",
              "25%        13.520821\n",
              "50%        18.546234\n",
              "75%        29.976204\n",
              "max        53.856998\n",
              "Name: Close, dtype: float64"
            ]
          },
          "execution_count": 42,
          "metadata": {},
          "output_type": "execute_result"
        }
      ],
      "source": [
        "df['Close'].describe()"
      ]
    },
    {
      "cell_type": "markdown",
      "metadata": {
        "id": "utpFFX0yOpZg"
      },
      "source": [
        "Plot of the Closing Price of Google."
      ]
    },
    {
      "cell_type": "code",
      "execution_count": 43,
      "metadata": {
        "colab": {
          "base_uri": "https://localhost:8080/",
          "height": 622
        },
        "id": "_kMUHHapCO5F",
        "outputId": "4f82c6a6-468b-4fc6-87a9-4cd4e322a6d0"
      },
      "outputs": [
        {
          "data": {
            "image/png": "[encoded data removed]",
            "text/plain": [
              "<Figure size 1200x700 with 1 Axes>"
            ]
          },
          "metadata": {},
          "output_type": "display_data"
        }
      ],
      "source": [
        "#Using Matplotlib Library\n",
        "plt.figure(figsize=(12,7))\n",
        "plt.plot(df['Close'],label='Closing Price',color='green')\n",
        "plt.legend()\n",
        "plt.title('Closing Price-Google')\n",
        "plt.show()"
      ]
    },
    {
      "cell_type": "code",
      "execution_count": 44,
      "metadata": {
        "colab": {
          "base_uri": "https://localhost:8080/"
        },
        "id": "pM_R057PPCZg",
        "outputId": "d7c78088-9421-4387-e428-e007e3f15ea2"
      },
      "outputs": [
        {
          "data": {
            "text/plain": [
              "0       17.065783\n",
              "1       17.069269\n",
              "2       16.363665\n",
              "3       16.170637\n",
              "4       15.733029\n",
              "          ...    \n",
              "2513    53.006001\n",
              "2514    52.837002\n",
              "2515    52.468498\n",
              "2516    52.407001\n",
              "2517    52.320000\n",
              "Name: Close, Length: 2518, dtype: float64"
            ]
          },
          "execution_count": 44,
          "metadata": {},
          "output_type": "execute_result"
        }
      ],
      "source": [
        "df1 = df.reset_index()['Close']         #reset_index\n",
        "df1"
      ]
    },
    {
      "cell_type": "code",
      "execution_count": 45,
      "metadata": {
        "colab": {
          "base_uri": "https://localhost:8080/",
          "height": 203
        },
        "id": "9jiYl3rlRJEj",
        "outputId": "eb3cff89-43ae-4c97-a694-8478879e43a4"
      },
      "outputs": [
        {
          "data": {
            "text/html": [
              "<div style=\"max-width:800px; border: 1px solid var(--colab-border-color);\"><style>\n",
              "      pre.function-repr-contents {\n",
              "        overflow-x: auto;\n",
              "        padding: 8px 12px;\n",
              "        max-height: 500px;\n",
              "      }\n",
              "\n",
              "      pre.function-repr-contents.function-repr-contents-collapsed {\n",
              "        cursor: pointer;\n",
              "        max-height: 100px;\n",
              "      }\n",
              "    </style>\n",
              "    <pre style=\"white-space: initial; background:\n",
              "         var(--colab-secondary-surface-color); padding: 8px 12px;\n",
              "         border-bottom: 1px solid var(--colab-border-color);\"><b>pandas.core.series.Series</b><br/>def __init__(data=None, index=None, dtype: Dtype | None=None, name=None, copy: bool=False, fastpath: bool=False) -&gt; None</pre><pre class=\"function-repr-contents function-repr-contents-collapsed\" style=\"\"><a class=\"filepath\" style=\"display:none\" href=\"#\">/usr/local/lib/python3.10/dist-packages/pandas/core/series.py</a>One-dimensional ndarray with axis labels (including time series).\n",
              "\n",
              "Labels need not be unique but must be a hashable type. The object\n",
              "supports both integer- and label-based indexing and provides a host of\n",
              "methods for performing operations involving the index. Statistical\n",
              "methods from ndarray have been overridden to automatically exclude\n",
              "missing data (currently represented as NaN).\n",
              "\n",
              "Operations between Series (+, -, /, \\*, \\*\\*) align values based on their\n",
              "associated index values-- they need not be the same length. The result\n",
              "index will be the sorted union of the two indexes.\n",
              "\n",
              "Parameters\n",
              "----------\n",
              "data : array-like, Iterable, dict, or scalar value\n",
              "    Contains data stored in Series. If data is a dict, argument order is\n",
              "    maintained.\n",
              "index : array-like or Index (1d)\n",
              "    Values must be hashable and have the same length as `data`.\n",
              "    Non-unique index values are allowed. Will default to\n",
              "    RangeIndex (0, 1, 2, ..., n) if not provided. If data is dict-like\n",
              "    and index is None, then the keys in the data are used as the index. If the\n",
              "    index is not None, the resulting Series is reindexed with the index values.\n",
              "dtype : str, numpy.dtype, or ExtensionDtype, optional\n",
              "    Data type for the output Series. If not specified, this will be\n",
              "    inferred from `data`.\n",
              "    See the :ref:`user guide &lt;basics.dtypes&gt;` for more usages.\n",
              "name : str, optional\n",
              "    The name to give to the Series.\n",
              "copy : bool, default False\n",
              "    Copy input data. Only affects Series or 1d ndarray input. See examples.\n",
              "\n",
              "Notes\n",
              "-----\n",
              "Please reference the :ref:`User Guide &lt;basics.series&gt;` for more information.\n",
              "\n",
              "Examples\n",
              "--------\n",
              "Constructing Series from a dictionary with an Index specified\n",
              "\n",
              "&gt;&gt;&gt; d = {&#x27;a&#x27;: 1, &#x27;b&#x27;: 2, &#x27;c&#x27;: 3}\n",
              "&gt;&gt;&gt; ser = pd.Series(data=d, index=[&#x27;a&#x27;, &#x27;b&#x27;, &#x27;c&#x27;])\n",
              "&gt;&gt;&gt; ser\n",
              "a   1\n",
              "b   2\n",
              "c   3\n",
              "dtype: int64\n",
              "\n",
              "The keys of the dictionary match with the Index values, hence the Index\n",
              "values have no effect.\n",
              "\n",
              "&gt;&gt;&gt; d = {&#x27;a&#x27;: 1, &#x27;b&#x27;: 2, &#x27;c&#x27;: 3}\n",
              "&gt;&gt;&gt; ser = pd.Series(data=d, index=[&#x27;x&#x27;, &#x27;y&#x27;, &#x27;z&#x27;])\n",
              "&gt;&gt;&gt; ser\n",
              "x   NaN\n",
              "y   NaN\n",
              "z   NaN\n",
              "dtype: float64\n",
              "\n",
              "Note that the Index is first build with the keys from the dictionary.\n",
              "After this the Series is reindexed with the given Index values, hence we\n",
              "get all NaN as a result.\n",
              "\n",
              "Constructing Series from a list with `copy=False`.\n",
              "\n",
              "&gt;&gt;&gt; r = [1, 2]\n",
              "&gt;&gt;&gt; ser = pd.Series(r, copy=False)\n",
              "&gt;&gt;&gt; ser.iloc[0] = 999\n",
              "&gt;&gt;&gt; r\n",
              "[1, 2]\n",
              "&gt;&gt;&gt; ser\n",
              "0    999\n",
              "1      2\n",
              "dtype: int64\n",
              "\n",
              "Due to input data type the Series has a `copy` of\n",
              "the original data even though `copy=False`, so\n",
              "the data is unchanged.\n",
              "\n",
              "Constructing Series from a 1d ndarray with `copy=False`.\n",
              "\n",
              "&gt;&gt;&gt; r = np.array([1, 2])\n",
              "&gt;&gt;&gt; ser = pd.Series(r, copy=False)\n",
              "&gt;&gt;&gt; ser.iloc[0] = 999\n",
              "&gt;&gt;&gt; r\n",
              "array([999,   2])\n",
              "&gt;&gt;&gt; ser\n",
              "0    999\n",
              "1      2\n",
              "dtype: int64\n",
              "\n",
              "Due to input data type the Series has a `view` on\n",
              "the original data, so\n",
              "the data is changed as well.</pre>\n",
              "      <script>\n",
              "      if (google.colab.kernel.accessAllowed && google.colab.files && google.colab.files.view) {\n",
              "        for (const element of document.querySelectorAll('.filepath')) {\n",
              "          element.style.display = 'block'\n",
              "          element.onclick = (event) => {\n",
              "            event.preventDefault();\n",
              "            event.stopPropagation();\n",
              "            google.colab.files.view(element.textContent, 216);\n",
              "          };\n",
              "        }\n",
              "      }\n",
              "      for (const element of document.querySelectorAll('.function-repr-contents')) {\n",
              "        element.onclick = (event) => {\n",
              "          event.preventDefault();\n",
              "          event.stopPropagation();\n",
              "          element.classList.toggle('function-repr-contents-collapsed');\n",
              "        };\n",
              "      }\n",
              "      </script>\n",
              "      </div>"
            ],
            "text/plain": [
              "pandas.core.series.Series"
            ]
          },
          "execution_count": 45,
          "metadata": {},
          "output_type": "execute_result"
        }
      ],
      "source": [
        "type(df1)"
      ]
    },
    {
      "cell_type": "code",
      "execution_count": 46,
      "metadata": {
        "colab": {
          "base_uri": "https://localhost:8080/"
        },
        "id": "pkb1DxF3RKrk",
        "outputId": "b8794aa7-2d91-458e-a2b0-176c5838ac19"
      },
      "outputs": [
        {
          "data": {
            "text/plain": [
              "array([17.06578255, 17.06926918, 16.36366463, ..., 52.46849823,\n",
              "       52.4070015 , 52.31999969])"
            ]
          },
          "execution_count": 46,
          "metadata": {},
          "output_type": "execute_result"
        }
      ],
      "source": [
        "data = df1.values\n",
        "data"
      ]
    },
    {
      "cell_type": "markdown",
      "metadata": {
        "id": "a4Gap7VSVDAD"
      },
      "source": [
        "Feature Scaling                \n",
        "for stable and efficient training"
      ]
    },
    {
      "cell_type": "code",
      "execution_count": 47,
      "metadata": {
        "id": "4Hn6wKrnU_zD"
      },
      "outputs": [],
      "source": [
        "data_min = data.min()\n",
        "data_max = data.max()"
      ]
    },
    {
      "cell_type": "markdown",
      "metadata": {
        "id": "iqc5b_LLXM9y"
      },
      "source": [
        "Here we are normalizing the data in the way that the entire data range lies in between 0 and 1."
      ]
    },
    {
      "cell_type": "code",
      "execution_count": 48,
      "metadata": {
        "colab": {
          "base_uri": "https://localhost:8080/"
        },
        "id": "0vZF0ZteV0sB",
        "outputId": "d6c3521f-0e74-40cd-bbb8-1613fc72089f"
      },
      "outputs": [
        {
          "data": {
            "text/plain": [
              "array([0.22455073, 0.22462422, 0.20975217, ..., 0.97073455, 0.96943838,\n",
              "       0.96760464])"
            ]
          },
          "execution_count": 48,
          "metadata": {},
          "output_type": "execute_result"
        }
      ],
      "source": [
        "normalized_data = (data-data_min)/(data_max-data_min)                            #MinMaxScaling\n",
        "\n",
        "normalized_data"
      ]
    },
    {
      "cell_type": "markdown",
      "metadata": {
        "id": "_cBX-rUjYOwM"
      },
      "source": [
        "Splitting the data into training and testing sets"
      ]
    },
    {
      "cell_type": "markdown",
      "metadata": {
        "id": "YJkGIQP9YaPW"
      },
      "source": [
        "Here we will not be using train_test_split function because we will be splitting the data according to the date."
      ]
    },
    {
      "cell_type": "code",
      "execution_count": 49,
      "metadata": {
        "colab": {
          "base_uri": "https://localhost:8080/"
        },
        "id": "I-I-rcEVWJW1",
        "outputId": "6287e1da-4898-4fa7-a824-b4c4de31cfdc"
      },
      "outputs": [
        {
          "name": "stdout",
          "output_type": "stream",
          "text": [
            "Length of the training data  2014\n",
            "Length of the testing data  654\n"
          ]
        }
      ],
      "source": [
        "len_training_data = int(len(data)*0.8)                       #using a 80-20 split\n",
        "len_testing_data = len(data)-len_training_data+150\n",
        "\n",
        "print(\"Length of the training data \", len_training_data)\n",
        "print(\"Length of the testing data \", len_testing_data)"
      ]
    },
    {
      "cell_type": "code",
      "execution_count": 50,
      "metadata": {
        "colab": {
          "base_uri": "https://localhost:8080/"
        },
        "id": "jT8zxZz9d9Aw",
        "outputId": "56e3c4ca-c15b-4dfe-8614-083e5910c2d3"
      },
      "outputs": [
        {
          "data": {
            "text/plain": [
              "array([[0.22455073],\n",
              "       [0.22462422],\n",
              "       [0.20975217],\n",
              "       ...,\n",
              "       [0.97073455],\n",
              "       [0.96943838],\n",
              "       [0.96760464]])"
            ]
          },
          "execution_count": 50,
          "metadata": {},
          "output_type": "execute_result"
        }
      ],
      "source": [
        "normalized_data = normalized_data.reshape(-1,1)\n",
        "normalized_data"
      ]
    },
    {
      "cell_type": "code",
      "execution_count": 51,
      "metadata": {
        "colab": {
          "base_uri": "https://localhost:8080/"
        },
        "id": "cWe9YEKMfKSz",
        "outputId": "c99a73de-9cb0-447d-a224-4de61e2e838d"
      },
      "outputs": [
        {
          "data": {
            "text/plain": [
              "(2518, 1)"
            ]
          },
          "execution_count": 51,
          "metadata": {},
          "output_type": "execute_result"
        }
      ],
      "source": [
        "normalized_data.shape"
      ]
    },
    {
      "cell_type": "code",
      "execution_count": 52,
      "metadata": {
        "colab": {
          "base_uri": "https://localhost:8080/"
        },
        "id": "nP8uAy7Ci0LL",
        "outputId": "d484a039-78c5-4467-834e-139311eb5ecd"
      },
      "outputs": [
        {
          "name": "stdout",
          "output_type": "stream",
          "text": [
            "Shape of train data  (2014, 1)\n",
            "Shape of test data  (654, 1)\n",
            "Type of train data  <class 'numpy.ndarray'>\n",
            "Type of test data  <class 'numpy.ndarray'>\n"
          ]
        }
      ],
      "source": [
        "train_data = normalized_data[:len_training_data,:]\n",
        "test_data = normalized_data[len_training_data-150:len(normalized_data),:]\n",
        "\n",
        "print(\"Shape of train data \",train_data.shape)\n",
        "print(\"Shape of test data \",test_data.shape)\n",
        "print(\"Type of train data \", type(train_data))\n",
        "print(\"Type of test data \", type(test_data))"
      ]
    },
    {
      "cell_type": "markdown",
      "metadata": {
        "id": "oiwUY5_Yjmv7"
      },
      "source": [
        "Now, I made two lists named x_train and y_train. The values will be appended in the following way :\n",
        "Firstly, we define a variable prev_data which was given a value of 150, the use of this variable is for predicting the stock price we need to give preceeding data to the model which then gives us 1 succeedding stock price.\n",
        "\n",
        "For this reason I am giving 150 previous data to the model for predicting the output of the 151th day.\n",
        "All the 150 previous data will go to the x_train list and the next day data will go into y_train as an individual, this y_train will be helpful for validating our prediction."
      ]
    },
    {
      "cell_type": "code",
      "execution_count": 53,
      "metadata": {
        "id": "d9vvg44KCdWv"
      },
      "outputs": [],
      "source": [
        "x_train=[]\n",
        "y_train=[]\n",
        "prev_data = 150\n",
        "for i in range(len_training_data-prev_data):\n",
        "  x_train.append(train_data[i:i+prev_data,:])\n",
        "  y_train.append(train_data[i+prev_data,:])\n",
        "\n",
        "\n"
      ]
    },
    {
      "cell_type": "code",
      "execution_count": 54,
      "metadata": {
        "colab": {
          "base_uri": "https://localhost:8080/"
        },
        "id": "UzNKxwsIqJSz",
        "outputId": "9760adbf-d8d6-4c4e-d601-f46e8bae94c3"
      },
      "outputs": [
        {
          "data": {
            "text/plain": [
              "150"
            ]
          },
          "execution_count": 54,
          "metadata": {},
          "output_type": "execute_result"
        }
      ],
      "source": [
        "len(x_train[0])"
      ]
    },
    {
      "cell_type": "code",
      "execution_count": 55,
      "metadata": {
        "colab": {
          "base_uri": "https://localhost:8080/"
        },
        "id": "I7PofO3yo9nf",
        "outputId": "22cee2b0-ea0f-486d-cc83-7d2d69401178"
      },
      "outputs": [
        {
          "data": {
            "text/plain": [
              "(1864, 150, 1)"
            ]
          },
          "execution_count": 55,
          "metadata": {},
          "output_type": "execute_result"
        }
      ],
      "source": [
        "X_train = np.array(x_train)\n",
        "X_train.shape"
      ]
    },
    {
      "cell_type": "code",
      "execution_count": 56,
      "metadata": {
        "colab": {
          "base_uri": "https://localhost:8080/"
        },
        "id": "2CM0MVVJpX3J",
        "outputId": "4d33f743-ec0e-4865-a58b-bf34f7195236"
      },
      "outputs": [
        {
          "data": {
            "text/plain": [
              "(1864, 1)"
            ]
          },
          "execution_count": 56,
          "metadata": {},
          "output_type": "execute_result"
        }
      ],
      "source": [
        "Y_train = np.array(y_train)\n",
        "Y_train.shape"
      ]
    },
    {
      "cell_type": "markdown",
      "metadata": {
        "id": "o5DsjI_pgbOR"
      },
      "source": [
        "Following the same as done for x_train and y_train in the case of x_test and y_test."
      ]
    },
    {
      "cell_type": "code",
      "execution_count": 57,
      "metadata": {
        "id": "9GBzsQu30_Jk"
      },
      "outputs": [],
      "source": [
        "x_test = []\n",
        "y_test = []\n",
        "\n",
        "prev_data = 150\n",
        "for i in range(len_testing_data-prev_data):\n",
        "  x_test.append(test_data[i:i+prev_data,:])\n",
        "  y_test.append(test_data[i+prev_data,:])"
      ]
    },
    {
      "cell_type": "code",
      "execution_count": 58,
      "metadata": {
        "colab": {
          "base_uri": "https://localhost:8080/"
        },
        "id": "1lqPF34e1jwj",
        "outputId": "6e743cba-473d-4db8-b70d-f7b787e5caa7"
      },
      "outputs": [
        {
          "data": {
            "text/plain": [
              "504"
            ]
          },
          "execution_count": 58,
          "metadata": {},
          "output_type": "execute_result"
        }
      ],
      "source": [
        "len(x_test)"
      ]
    },
    {
      "cell_type": "code",
      "execution_count": 59,
      "metadata": {
        "colab": {
          "base_uri": "https://localhost:8080/"
        },
        "id": "oP9wri9w1j8P",
        "outputId": "7727d46a-60a0-4dd9-f36c-dddc9f4e0f06"
      },
      "outputs": [
        {
          "data": {
            "text/plain": [
              "(504, 150, 1)"
            ]
          },
          "execution_count": 59,
          "metadata": {},
          "output_type": "execute_result"
        }
      ],
      "source": [
        "X_test = np.array(x_test)\n",
        "Y_test = np.array(y_test)\n",
        "X_test.shape"
      ]
    },
    {
      "cell_type": "markdown",
      "metadata": {
        "id": "y_g8kvYttpFG"
      },
      "source": [
        "Building the model"
      ]
    },
    {
      "cell_type": "code",
      "execution_count": 60,
      "metadata": {
        "id": "oP5eoNmOtcv8"
      },
      "outputs": [],
      "source": [
        "#Importing Libraries\n",
        "\n",
        "import tensorflow as tf\n",
        "import keras as keras\n",
        "from keras.models import Sequential\n",
        "from keras.layers import LSTM,Dense\n",
        "import math\n",
        "import time\n",
        "from sklearn.metrics import mean_squared_error,mean_absolute_error,r2_score"
      ]
    },
    {
      "cell_type": "code",
      "execution_count": 61,
      "metadata": {
        "id": "ostVT7i8uTJl"
      },
      "outputs": [],
      "source": [
        "model = Sequential()\n",
        "\n",
        "model.add(LSTM(25,return_sequences=True,input_shape=(X_train.shape[1],1),activation='relu'))\n",
        "model.add(LSTM(15,return_sequences=False,activation='relu'))\n",
        "model.add(Dense(1))                 #not adding a activation function to the output layer is a good way of building the model.\n",
        "model.compile(optimizer=tf.keras.optimizers.Adam(learning_rate=0.03),loss='mean_squared_error')"
      ]
    },
    {
      "cell_type": "code",
      "execution_count": 62,
      "metadata": {
        "colab": {
          "base_uri": "https://localhost:8080/"
        },
        "id": "b4I-7r4AvrTQ",
        "outputId": "f4b798dd-25d4-4f58-8e5a-8d87d5c995fe"
      },
      "outputs": [
        {
          "name": "stdout",
          "output_type": "stream",
          "text": [
            "Model: \"sequential_1\"\n",
            "_________________________________________________________________\n",
            " Layer (type)                Output Shape              Param #   \n",
            "=================================================================\n",
            " lstm_2 (LSTM)               (None, 150, 25)           2700      \n",
            "                                                                 \n",
            " lstm_3 (LSTM)               (None, 15)                2460      \n",
            "                                                                 \n",
            " dense_1 (Dense)             (None, 1)                 16        \n",
            "                                                                 \n",
            "=================================================================\n",
            "Total params: 5176 (20.22 KB)\n",
            "Trainable params: 5176 (20.22 KB)\n",
            "Non-trainable params: 0 (0.00 Byte)\n",
            "_________________________________________________________________\n"
          ]
        }
      ],
      "source": [
        "model.summary()"
      ]
    },
    {
      "cell_type": "code",
      "execution_count": 63,
      "metadata": {
        "colab": {
          "base_uri": "https://localhost:8080/"
        },
        "id": "_ujbMnD7xgcy",
        "outputId": "320d6ba9-78d5-4a68-816e-7cc819c99fa3"
      },
      "outputs": [
        {
          "name": "stdout",
          "output_type": "stream",
          "text": [
            "Epoch 1/100\n",
            "15/15 [==============================] - 6s 171ms/step - loss: 0.0152 - val_loss: 0.0157\n",
            "Epoch 2/100\n",
            "15/15 [==============================] - 2s 133ms/step - loss: 7.6533e-04 - val_loss: 0.0015\n",
            "Epoch 3/100\n",
            "15/15 [==============================] - 2s 145ms/step - loss: 2.8651e-04 - val_loss: 5.6995e-04\n",
            "Epoch 4/100\n",
            "15/15 [==============================] - 2s 133ms/step - loss: 2.1889e-04 - val_loss: 4.2676e-04\n",
            "Epoch 5/100\n",
            "15/15 [==============================] - 2s 162ms/step - loss: 1.9303e-04 - val_loss: 0.0014\n",
            "Epoch 6/100\n",
            "15/15 [==============================] - 2s 163ms/step - loss: 2.3187e-04 - val_loss: 0.0011\n",
            "Epoch 7/100\n",
            "15/15 [==============================] - 2s 125ms/step - loss: 1.9967e-04 - val_loss: 5.9088e-04\n",
            "Epoch 8/100\n",
            "15/15 [==============================] - 2s 125ms/step - loss: 1.9268e-04 - val_loss: 3.5344e-04\n",
            "Epoch 9/100\n",
            "15/15 [==============================] - 2s 127ms/step - loss: 1.7346e-04 - val_loss: 3.5301e-04\n",
            "Epoch 10/100\n",
            "15/15 [==============================] - 2s 126ms/step - loss: 1.7854e-04 - val_loss: 7.5246e-04\n",
            "Epoch 11/100\n",
            "15/15 [==============================] - 2s 148ms/step - loss: 1.7871e-04 - val_loss: 6.3373e-04\n",
            "Epoch 12/100\n",
            "15/15 [==============================] - 3s 171ms/step - loss: 2.0892e-04 - val_loss: 3.3807e-04\n",
            "Epoch 13/100\n",
            "15/15 [==============================] - 2s 134ms/step - loss: 1.7108e-04 - val_loss: 3.0625e-04\n",
            "Epoch 14/100\n",
            "15/15 [==============================] - 2s 132ms/step - loss: 1.7396e-04 - val_loss: 5.0164e-04\n",
            "Epoch 15/100\n",
            "15/15 [==============================] - 2s 141ms/step - loss: 1.4950e-04 - val_loss: 3.7141e-04\n",
            "Epoch 16/100\n",
            "15/15 [==============================] - 2s 124ms/step - loss: 1.4602e-04 - val_loss: 3.6021e-04\n",
            "Epoch 17/100\n",
            "15/15 [==============================] - 2s 155ms/step - loss: 1.7547e-04 - val_loss: 3.7154e-04\n",
            "Epoch 18/100\n",
            "15/15 [==============================] - 2s 164ms/step - loss: 2.0445e-04 - val_loss: 5.1437e-04\n",
            "Epoch 19/100\n",
            "15/15 [==============================] - 2s 126ms/step - loss: 1.5705e-04 - val_loss: 8.1114e-04\n",
            "Epoch 20/100\n",
            "15/15 [==============================] - 2s 141ms/step - loss: 2.2155e-04 - val_loss: 3.2528e-04\n",
            "Epoch 21/100\n",
            "15/15 [==============================] - 2s 136ms/step - loss: 2.0267e-04 - val_loss: 5.1485e-04\n",
            "Epoch 22/100\n",
            "15/15 [==============================] - 2s 125ms/step - loss: 1.6448e-04 - val_loss: 5.4858e-04\n",
            "Epoch 23/100\n",
            "15/15 [==============================] - 2s 164ms/step - loss: 2.0156e-04 - val_loss: 4.4866e-04\n",
            "Epoch 24/100\n",
            "15/15 [==============================] - 2s 161ms/step - loss: 1.8352e-04 - val_loss: 4.2307e-04\n",
            "Epoch 25/100\n",
            "15/15 [==============================] - 2s 147ms/step - loss: 1.7333e-04 - val_loss: 2.5172e-04\n",
            "Epoch 26/100\n",
            "15/15 [==============================] - 2s 132ms/step - loss: 1.4482e-04 - val_loss: 2.3128e-04\n",
            "Epoch 27/100\n",
            "15/15 [==============================] - 2s 133ms/step - loss: 1.2800e-04 - val_loss: 2.3969e-04\n",
            "Epoch 28/100\n",
            "15/15 [==============================] - 2s 125ms/step - loss: 1.4137e-04 - val_loss: 4.1579e-04\n",
            "Epoch 29/100\n",
            "15/15 [==============================] - 3s 177ms/step - loss: 1.4851e-04 - val_loss: 3.1939e-04\n",
            "Epoch 30/100\n",
            "15/15 [==============================] - 2s 149ms/step - loss: 1.5041e-04 - val_loss: 3.0106e-04\n",
            "Epoch 31/100\n",
            "15/15 [==============================] - 2s 124ms/step - loss: 1.2340e-04 - val_loss: 4.1704e-04\n",
            "Epoch 32/100\n",
            "15/15 [==============================] - 2s 125ms/step - loss: 1.4045e-04 - val_loss: 2.9846e-04\n",
            "Epoch 33/100\n",
            "15/15 [==============================] - 2s 160ms/step - loss: 1.1672e-04 - val_loss: 3.0293e-04\n",
            "Epoch 34/100\n",
            "15/15 [==============================] - 3s 207ms/step - loss: 1.5814e-04 - val_loss: 4.2881e-04\n",
            "Epoch 35/100\n",
            "15/15 [==============================] - 3s 183ms/step - loss: 1.4492e-04 - val_loss: 1.8513e-04\n",
            "Epoch 36/100\n",
            "15/15 [==============================] - 2s 125ms/step - loss: 1.9247e-04 - val_loss: 2.6349e-04\n",
            "Epoch 37/100\n",
            "15/15 [==============================] - 2s 126ms/step - loss: 1.2601e-04 - val_loss: 2.5261e-04\n",
            "Epoch 38/100\n",
            "15/15 [==============================] - 2s 138ms/step - loss: 1.3366e-04 - val_loss: 2.5576e-04\n",
            "Epoch 39/100\n",
            "15/15 [==============================] - 2s 128ms/step - loss: 1.0287e-04 - val_loss: 1.7338e-04\n",
            "Epoch 40/100\n",
            "15/15 [==============================] - 2s 139ms/step - loss: 1.0495e-04 - val_loss: 1.7612e-04\n",
            "Epoch 41/100\n",
            "15/15 [==============================] - 3s 202ms/step - loss: 1.1536e-04 - val_loss: 2.1899e-04\n",
            "Epoch 42/100\n",
            "15/15 [==============================] - 2s 129ms/step - loss: 1.1637e-04 - val_loss: 2.0927e-04\n",
            "Epoch 43/100\n",
            "15/15 [==============================] - 2s 126ms/step - loss: 1.2553e-04 - val_loss: 8.3101e-04\n",
            "Epoch 44/100\n",
            "15/15 [==============================] - 2s 126ms/step - loss: 1.1350e-04 - val_loss: 1.5801e-04\n",
            "Epoch 45/100\n",
            "15/15 [==============================] - 2s 125ms/step - loss: 1.1163e-04 - val_loss: 6.4040e-04\n",
            "Epoch 46/100\n",
            "15/15 [==============================] - 2s 145ms/step - loss: 1.0491e-04 - val_loss: 1.6601e-04\n",
            "Epoch 47/100\n",
            "15/15 [==============================] - 3s 179ms/step - loss: 1.2140e-04 - val_loss: 1.6504e-04\n",
            "Epoch 48/100\n",
            "15/15 [==============================] - 2s 125ms/step - loss: 1.3656e-04 - val_loss: 1.5439e-04\n",
            "Epoch 49/100\n",
            "15/15 [==============================] - 2s 125ms/step - loss: 1.2792e-04 - val_loss: 2.0122e-04\n",
            "Epoch 50/100\n",
            "15/15 [==============================] - 2s 125ms/step - loss: 1.2169e-04 - val_loss: 4.7510e-04\n",
            "Epoch 51/100\n",
            "15/15 [==============================] - 2s 124ms/step - loss: 1.0977e-04 - val_loss: 3.0514e-04\n",
            "Epoch 52/100\n",
            "15/15 [==============================] - 2s 124ms/step - loss: 1.2825e-04 - val_loss: 1.3297e-04\n",
            "Epoch 53/100\n",
            "15/15 [==============================] - 3s 199ms/step - loss: 9.6823e-05 - val_loss: 2.3643e-04\n",
            "Epoch 54/100\n",
            "15/15 [==============================] - 2s 138ms/step - loss: 9.3504e-05 - val_loss: 1.5949e-04\n",
            "Epoch 55/100\n",
            "15/15 [==============================] - 2s 135ms/step - loss: 7.9898e-05 - val_loss: 1.2943e-04\n",
            "Epoch 56/100\n",
            "15/15 [==============================] - 2s 124ms/step - loss: 9.9862e-05 - val_loss: 8.4867e-04\n",
            "Epoch 57/100\n",
            "15/15 [==============================] - 2s 124ms/step - loss: 1.4385e-04 - val_loss: 1.6396e-04\n",
            "Epoch 58/100\n",
            "15/15 [==============================] - 2s 124ms/step - loss: 1.1344e-04 - val_loss: 2.4921e-04\n",
            "Epoch 59/100\n",
            "15/15 [==============================] - 3s 200ms/step - loss: 8.4687e-05 - val_loss: 1.8148e-04\n",
            "Epoch 60/100\n",
            "15/15 [==============================] - 2s 132ms/step - loss: 8.6989e-05 - val_loss: 1.3513e-04\n",
            "Epoch 61/100\n",
            "15/15 [==============================] - 2s 127ms/step - loss: 1.1259e-04 - val_loss: 1.3170e-04\n",
            "Epoch 62/100\n",
            "15/15 [==============================] - 2s 125ms/step - loss: 9.2375e-05 - val_loss: 2.1296e-04\n",
            "Epoch 63/100\n",
            "15/15 [==============================] - 2s 125ms/step - loss: 7.9371e-05 - val_loss: 2.4575e-04\n",
            "Epoch 64/100\n",
            "15/15 [==============================] - 2s 125ms/step - loss: 9.8675e-05 - val_loss: 5.0599e-04\n",
            "Epoch 65/100\n",
            "15/15 [==============================] - 3s 205ms/step - loss: 1.0173e-04 - val_loss: 1.5094e-04\n",
            "Epoch 66/100\n",
            "15/15 [==============================] - 2s 126ms/step - loss: 1.0320e-04 - val_loss: 3.9204e-04\n",
            "Epoch 67/100\n",
            "15/15 [==============================] - 2s 137ms/step - loss: 1.6545e-04 - val_loss: 2.6204e-04\n",
            "Epoch 68/100\n",
            "15/15 [==============================] - 4s 287ms/step - loss: 1.1194e-04 - val_loss: 1.6908e-04\n",
            "Epoch 69/100\n",
            "15/15 [==============================] - 2s 137ms/step - loss: 9.4008e-05 - val_loss: 1.5043e-04\n",
            "Epoch 70/100\n",
            "15/15 [==============================] - 3s 193ms/step - loss: 8.5380e-05 - val_loss: 1.4533e-04\n",
            "Epoch 71/100\n",
            "15/15 [==============================] - 2s 133ms/step - loss: 1.0711e-04 - val_loss: 4.5511e-04\n",
            "Epoch 72/100\n",
            "15/15 [==============================] - 2s 125ms/step - loss: 8.2622e-05 - val_loss: 1.8173e-04\n",
            "Epoch 73/100\n",
            "15/15 [==============================] - 2s 125ms/step - loss: 7.3289e-05 - val_loss: 2.1543e-04\n",
            "Epoch 74/100\n",
            "15/15 [==============================] - 2s 124ms/step - loss: 7.5440e-05 - val_loss: 1.4626e-04\n",
            "Epoch 75/100\n",
            "15/15 [==============================] - 2s 127ms/step - loss: 8.6201e-05 - val_loss: 4.8073e-04\n",
            "Epoch 76/100\n",
            "15/15 [==============================] - 3s 194ms/step - loss: 7.9695e-05 - val_loss: 1.4919e-04\n",
            "Epoch 77/100\n",
            "15/15 [==============================] - 2s 125ms/step - loss: 6.9535e-05 - val_loss: 1.5742e-04\n",
            "Epoch 78/100\n",
            "15/15 [==============================] - 2s 124ms/step - loss: 7.0612e-05 - val_loss: 1.3652e-04\n",
            "Epoch 79/100\n",
            "15/15 [==============================] - 2s 125ms/step - loss: 9.9109e-05 - val_loss: 2.0179e-04\n",
            "Epoch 80/100\n",
            "15/15 [==============================] - 2s 127ms/step - loss: 6.7071e-05 - val_loss: 2.2861e-04\n",
            "Epoch 81/100\n",
            "15/15 [==============================] - 2s 125ms/step - loss: 6.4890e-05 - val_loss: 1.8074e-04\n",
            "Epoch 82/100\n",
            "15/15 [==============================] - 3s 201ms/step - loss: 7.9308e-05 - val_loss: 2.4166e-04\n",
            "Epoch 83/100\n",
            "15/15 [==============================] - 2s 125ms/step - loss: 6.9483e-05 - val_loss: 5.2987e-04\n",
            "Epoch 84/100\n",
            "15/15 [==============================] - 2s 124ms/step - loss: 9.1625e-05 - val_loss: 2.6659e-04\n",
            "Epoch 85/100\n",
            "15/15 [==============================] - 2s 125ms/step - loss: 9.4279e-05 - val_loss: 4.3079e-04\n",
            "Epoch 86/100\n",
            "15/15 [==============================] - 2s 126ms/step - loss: 7.0275e-05 - val_loss: 2.1383e-04\n",
            "Epoch 87/100\n",
            "15/15 [==============================] - 2s 127ms/step - loss: 6.9959e-05 - val_loss: 2.9926e-04\n",
            "Epoch 88/100\n",
            "15/15 [==============================] - 3s 186ms/step - loss: 6.0497e-05 - val_loss: 4.0370e-04\n",
            "Epoch 89/100\n",
            "15/15 [==============================] - 2s 133ms/step - loss: 7.4351e-05 - val_loss: 3.0570e-04\n",
            "Epoch 90/100\n",
            "15/15 [==============================] - 2s 125ms/step - loss: 5.9914e-05 - val_loss: 2.8015e-04\n",
            "Epoch 91/100\n",
            "15/15 [==============================] - 2s 126ms/step - loss: 6.4340e-05 - val_loss: 2.3537e-04\n",
            "Epoch 92/100\n",
            "15/15 [==============================] - 2s 126ms/step - loss: 7.2026e-05 - val_loss: 1.6748e-04\n",
            "Epoch 93/100\n",
            "15/15 [==============================] - 2s 126ms/step - loss: 6.1632e-05 - val_loss: 2.9271e-04\n",
            "Epoch 94/100\n",
            "15/15 [==============================] - 3s 182ms/step - loss: 9.7152e-05 - val_loss: 3.6976e-04\n",
            "Epoch 95/100\n",
            "15/15 [==============================] - 2s 143ms/step - loss: 1.3108e-04 - val_loss: 0.0011\n",
            "Epoch 96/100\n",
            "15/15 [==============================] - 2s 125ms/step - loss: 7.2890e-05 - val_loss: 1.8037e-04\n",
            "Epoch 97/100\n",
            "15/15 [==============================] - 2s 126ms/step - loss: 6.2248e-05 - val_loss: 4.6704e-04\n",
            "Epoch 98/100\n",
            "15/15 [==============================] - 2s 126ms/step - loss: 8.6467e-05 - val_loss: 1.4325e-04\n",
            "Epoch 99/100\n",
            "15/15 [==============================] - 2s 135ms/step - loss: 5.9330e-05 - val_loss: 1.4938e-04\n",
            "Epoch 100/100\n",
            "15/15 [==============================] - 2s 164ms/step - loss: 6.3357e-05 - val_loss: 1.5903e-04\n",
            "Time taken :  265.77464962005615\n"
          ]
        }
      ],
      "source": [
        "batch_size=128\n",
        "epochs=100\n",
        "start_time = time.time()\n",
        "model.fit(X_train,Y_train,batch_size=batch_size,epochs=epochs,validation_data=(X_test,Y_test))\n",
        "stop_time = time.time()\n",
        "\n",
        "time_taken = stop_time - start_time    #this gives us the total time taken for successfully training the model.\n",
        "print(\"Time taken : \", time_taken)"
      ]
    },
    {
      "cell_type": "code",
      "execution_count": 64,
      "metadata": {
        "colab": {
          "base_uri": "https://localhost:8080/"
        },
        "id": "Mu9tTr6jy7AZ",
        "outputId": "6de55be1-e5f0-45d4-c776-77d480be4707"
      },
      "outputs": [
        {
          "name": "stdout",
          "output_type": "stream",
          "text": [
            "59/59 [==============================] - 2s 23ms/step\n",
            "16/16 [==============================] - 0s 23ms/step\n"
          ]
        }
      ],
      "source": [
        "train_predict = model.predict(X_train)   #Predicting the values of Y_test.\n",
        "test_predict = model.predict(X_test)     #Predicting the values of X_test"
      ]
    },
    {
      "cell_type": "code",
      "execution_count": 65,
      "metadata": {
        "colab": {
          "base_uri": "https://localhost:8080/"
        },
        "id": "8TuhoLn7-5Zg",
        "outputId": "3d02c163-d9f0-4976-c30b-2d1dc23ee33d"
      },
      "outputs": [
        {
          "data": {
            "text/plain": [
              "array([[0.11535631],\n",
              "       [0.1195236 ],\n",
              "       [0.11999148],\n",
              "       ...,\n",
              "       [0.6618866 ],\n",
              "       [0.6770622 ],\n",
              "       [0.69050664]], dtype=float32)"
            ]
          },
          "execution_count": 65,
          "metadata": {},
          "output_type": "execute_result"
        }
      ],
      "source": [
        "train_predict"
      ]
    },
    {
      "cell_type": "code",
      "execution_count": 66,
      "metadata": {
        "id": "F4bfkvgv7KsO"
      },
      "outputs": [],
      "source": [
        "Predicted_Train = train_predict*(data_max-data_min) + data_min     #Scaling the data."
      ]
    },
    {
      "cell_type": "code",
      "execution_count": 67,
      "metadata": {
        "colab": {
          "base_uri": "https://localhost:8080/"
        },
        "id": "iAYdOzR6lYN-",
        "outputId": "d5567b90-c793-4850-8b5b-e1ca7a24e3bf"
      },
      "outputs": [
        {
          "data": {
            "text/plain": [
              "(1864, 1)"
            ]
          },
          "execution_count": 67,
          "metadata": {},
          "output_type": "execute_result"
        }
      ],
      "source": [
        "Predicted_Train.shape"
      ]
    },
    {
      "cell_type": "code",
      "execution_count": 68,
      "metadata": {
        "colab": {
          "base_uri": "https://localhost:8080/"
        },
        "id": "oeQkaCRw9PRB",
        "outputId": "99c8fa71-c6a5-4bda-e6d8-0c7ac6237da9"
      },
      "outputs": [
        {
          "data": {
            "text/plain": [
              "array([[12.11309719],\n",
              "       [11.93327141],\n",
              "       [12.32903767],\n",
              "       ...,\n",
              "       [38.12549973],\n",
              "       [38.83000183],\n",
              "       [38.54999924]])"
            ]
          },
          "execution_count": 68,
          "metadata": {},
          "output_type": "execute_result"
        }
      ],
      "source": [
        "Y_train_inv = Y_train*(data_max-data_min) + data_min    #Rescaling the data to make it original\n",
        "Y_train_inv"
      ]
    },
    {
      "cell_type": "code",
      "execution_count": 68,
      "metadata": {
        "id": "pOSKzEUJagWq"
      },
      "outputs": [],
      "source": []
    },
    {
      "cell_type": "code",
      "execution_count": 69,
      "metadata": {
        "colab": {
          "base_uri": "https://localhost:8080/"
        },
        "id": "Q4IFlT8C9gup",
        "outputId": "68f87f97-1a18-4db2-9251-fd03bdc94de0"
      },
      "outputs": [
        {
          "name": "stdout",
          "output_type": "stream",
          "text": [
            "Root Mean Square Error of training data :  0.39786187756862834\n"
          ]
        }
      ],
      "source": [
        "rmse = math.sqrt(mean_squared_error(Y_train_inv,Predicted_Train))\n",
        "print(\"Root Mean Square Error of training data : \", rmse)"
      ]
    },
    {
      "cell_type": "code",
      "execution_count": 70,
      "metadata": {
        "id": "S9OEStRadYc2"
      },
      "outputs": [],
      "source": [
        "##rmse_1 = math.sqrt(mean_squared_error(Y_train_inv, train_predict))\n",
        "##rmse_1"
      ]
    },
    {
      "cell_type": "code",
      "execution_count": 71,
      "metadata": {
        "colab": {
          "base_uri": "https://localhost:8080/"
        },
        "id": "OGwLmc2s_HPp",
        "outputId": "dfd4fd41-234f-4ac7-ebdd-5d300eef848d"
      },
      "outputs": [
        {
          "name": "stdout",
          "output_type": "stream",
          "text": [
            "Mean Absolute Error of training data :  0.2864087469588022\n"
          ]
        }
      ],
      "source": [
        "mae = mean_absolute_error(Y_train_inv,Predicted_Train)\n",
        "print(\"Mean Absolute Error of training data : \", mae)"
      ]
    },
    {
      "cell_type": "code",
      "execution_count": 72,
      "metadata": {
        "colab": {
          "base_uri": "https://localhost:8080/"
        },
        "id": "CLOJQFeLBNl1",
        "outputId": "d111afd5-0580-40e4-cd25-ea489f5407af"
      },
      "outputs": [
        {
          "name": "stdout",
          "output_type": "stream",
          "text": [
            "R2 score of training data :  0.997167435415589\n"
          ]
        }
      ],
      "source": [
        "r2 = r2_score(Y_train_inv,Predicted_Train)\n",
        "print(\"R2 score of training data : \", r2)"
      ]
    },
    {
      "cell_type": "code",
      "execution_count": 73,
      "metadata": {
        "id": "G6OYYyi0BXGZ"
      },
      "outputs": [],
      "source": [
        "Predicted_Test = test_predict*(data_max-data_min) + data_min\n",
        "\n",
        "Ytest_inv = Y_test*(data_max-data_min) + data_min"
      ]
    },
    {
      "cell_type": "code",
      "execution_count": 74,
      "metadata": {
        "colab": {
          "base_uri": "https://localhost:8080/"
        },
        "id": "O0Sk9q_UDJ8Q",
        "outputId": "a633a441-acb7-4f53-8ed0-43d4f2d5029a"
      },
      "outputs": [
        {
          "data": {
            "text/plain": [
              "(504, 1)"
            ]
          },
          "execution_count": 74,
          "metadata": {},
          "output_type": "execute_result"
        }
      ],
      "source": [
        "Predicted_Test.shape"
      ]
    },
    {
      "cell_type": "code",
      "execution_count": 75,
      "metadata": {
        "colab": {
          "base_uri": "https://localhost:8080/"
        },
        "id": "xeULVETZC7Tp",
        "outputId": "882b4826-c2d9-419e-dc21-63e30376b260"
      },
      "outputs": [
        {
          "name": "stdout",
          "output_type": "stream",
          "text": [
            "Root Mean Square Error of testing data :  0.5983212605605658\n"
          ]
        }
      ],
      "source": [
        "rmse_test = math.sqrt(mean_squared_error(Ytest_inv,Predicted_Test))\n",
        "print(\"Root Mean Square Error of testing data : \", rmse_test)"
      ]
    },
    {
      "cell_type": "code",
      "execution_count": 76,
      "metadata": {
        "colab": {
          "base_uri": "https://localhost:8080/"
        },
        "id": "JOahnJIwDEgH",
        "outputId": "5aaa385b-7644-4b4d-df0a-653ff6b8fcfa"
      },
      "outputs": [
        {
          "name": "stdout",
          "output_type": "stream",
          "text": [
            "Mean Absolute Error of testing data :  0.46038504252358087\n"
          ]
        }
      ],
      "source": [
        "mae_test = mean_absolute_error(Ytest_inv,Predicted_Test)\n",
        "print(\"Mean Absolute Error of testing data : \", mae_test)"
      ]
    },
    {
      "cell_type": "code",
      "execution_count": 77,
      "metadata": {
        "colab": {
          "base_uri": "https://localhost:8080/"
        },
        "id": "D3hWZr9-DQi7",
        "outputId": "a5c77261-9da4-4866-bf95-d1b6e0fcc463"
      },
      "outputs": [
        {
          "name": "stdout",
          "output_type": "stream",
          "text": [
            "R2 score of testing data :  0.9875397018790357\n"
          ]
        }
      ],
      "source": [
        "r2_test = r2_score(Ytest_inv,Predicted_Test)\n",
        "print(\"R2 score of testing data : \", r2_test)"
      ]
    },
    {
      "cell_type": "code",
      "execution_count": 78,
      "metadata": {
        "colab": {
          "base_uri": "https://localhost:8080/"
        },
        "id": "hxMXGhHVy7MX",
        "outputId": "39944c80-b51d-4090-9dc7-1dcecce0d444"
      },
      "outputs": [
        {
          "name": "stdout",
          "output_type": "stream",
          "text": [
            "Time taken to run the model :  265.7746\n",
            "RMSE-TRAIN :  0.39786187756862834\n",
            "MAE-TRAIN :  0.2864087469588022\n",
            "R2score TRAIN :  0.997167435415589\n",
            "RMSE - TEST :  0.5983212605605658\n",
            "MAE - TEST 0.46038504252358087\n",
            "R2score TEST :  0.9875397018790357\n"
          ]
        }
      ],
      "source": [
        "print(\"Time taken to run the model : \", round(time_taken,4))\n",
        "print(\"RMSE-TRAIN : \",rmse)\n",
        "print(\"MAE-TRAIN : \", mae)\n",
        "print(\"R2score TRAIN : \", r2)\n",
        "print(\"RMSE - TEST : \",rmse_test)\n",
        "print(\"MAE - TEST\", mae_test)\n",
        "print(\"R2score TEST : \", r2_test)"
      ]
    },
    {
      "cell_type": "markdown",
      "metadata": {
        "id": "sa4HuL-qa1Mg"
      },
      "source": [
        "Plotting"
      ]
    },
    {
      "cell_type": "markdown",
      "metadata": {
        "id": "TcdL0-xkeUav"
      },
      "source": [
        "Here we can't directly usthe available data directly in the plt.plot() function because each is having different index and the predicted data start at different points. So we should make them alike and the plot."
      ]
    },
    {
      "cell_type": "code",
      "execution_count": 79,
      "metadata": {
        "colab": {
          "base_uri": "https://localhost:8080/"
        },
        "id": "tRAyJb1HfXic",
        "outputId": "d9fd5282-990f-4186-810f-2dcf6591df9d"
      },
      "outputs": [
        {
          "data": {
            "text/plain": [
              "(504, 1)"
            ]
          },
          "execution_count": 79,
          "metadata": {},
          "output_type": "execute_result"
        }
      ],
      "source": [
        "Ytest_inv.shape"
      ]
    },
    {
      "cell_type": "code",
      "execution_count": 80,
      "metadata": {
        "id": "0UzHsnLJffTt"
      },
      "outputs": [],
      "source": [
        "comparison = pd.DataFrame(Predicted_Test,columns=['Predicted Price'])"
      ]
    },
    {
      "cell_type": "code",
      "execution_count": 81,
      "metadata": {
        "colab": {
          "base_uri": "https://localhost:8080/",
          "height": 423
        },
        "id": "onmmcrjCgvMh",
        "outputId": "51c70d9f-109d-4c62-9a3a-12f59d16755b"
      },
      "outputs": [
        {
          "data": {
            "application/vnd.google.colaboratory.intrinsic+json": {
              "summary": "{\n  \"name\": \"comparison\",\n  \"rows\": 504,\n  \"fields\": [\n    {\n      \"column\": \"Predicted Price\",\n      \"properties\": {\n        \"dtype\": \"float32\",\n        \"num_unique_values\": 504,\n        \"samples\": [\n          39.27171325683594,\n          40.05847930908203,\n          51.09158706665039\n        ],\n        \"semantic_type\": \"\",\n        \"description\": \"\"\n      }\n    },\n    {\n      \"column\": \"Orginal Price\",\n      \"properties\": {\n        \"dtype\": \"number\",\n        \"std\": 5.365392455892941,\n        \"min\": 33.41299819946289,\n        \"max\": 53.856998443603516,\n        \"num_unique_values\": 497,\n        \"samples\": [\n          51.852500915527344,\n          38.330501556396484,\n          37.525001525878906\n        ],\n        \"semantic_type\": \"\",\n        \"description\": \"\"\n      }\n    }\n  ]\n}",
              "type": "dataframe",
              "variable_name": "comparison"
            },
            "text/html": [
              "\n",
              "  <div id=\"df-62df7921-7192-48fa-a0bf-b4576478836c\" class=\"colab-df-container\">\n",
              "    <div>\n",
              "<style scoped>\n",
              "    .dataframe tbody tr th:only-of-type {\n",
              "        vertical-align: middle;\n",
              "    }\n",
              "\n",
              "    .dataframe tbody tr th {\n",
              "        vertical-align: top;\n",
              "    }\n",
              "\n",
              "    .dataframe thead th {\n",
              "        text-align: right;\n",
              "    }\n",
              "</style>\n",
              "<table border=\"1\" class=\"dataframe\">\n",
              "  <thead>\n",
              "    <tr style=\"text-align: right;\">\n",
              "      <th></th>\n",
              "      <th>Predicted Price</th>\n",
              "      <th>Orginal Price</th>\n",
              "    </tr>\n",
              "  </thead>\n",
              "  <tbody>\n",
              "    <tr>\n",
              "      <th>0</th>\n",
              "      <td>38.767849</td>\n",
              "      <td>37.944000</td>\n",
              "    </tr>\n",
              "    <tr>\n",
              "      <th>1</th>\n",
              "      <td>38.178318</td>\n",
              "      <td>37.091999</td>\n",
              "    </tr>\n",
              "    <tr>\n",
              "      <th>2</th>\n",
              "      <td>37.407669</td>\n",
              "      <td>37.129002</td>\n",
              "    </tr>\n",
              "    <tr>\n",
              "      <th>3</th>\n",
              "      <td>37.567200</td>\n",
              "      <td>37.181000</td>\n",
              "    </tr>\n",
              "    <tr>\n",
              "      <th>4</th>\n",
              "      <td>37.658657</td>\n",
              "      <td>36.319500</td>\n",
              "    </tr>\n",
              "    <tr>\n",
              "      <th>...</th>\n",
              "      <td>...</td>\n",
              "      <td>...</td>\n",
              "    </tr>\n",
              "    <tr>\n",
              "      <th>499</th>\n",
              "      <td>52.425808</td>\n",
              "      <td>53.006001</td>\n",
              "    </tr>\n",
              "    <tr>\n",
              "      <th>500</th>\n",
              "      <td>52.228222</td>\n",
              "      <td>52.837002</td>\n",
              "    </tr>\n",
              "    <tr>\n",
              "      <th>501</th>\n",
              "      <td>52.099201</td>\n",
              "      <td>52.468498</td>\n",
              "    </tr>\n",
              "    <tr>\n",
              "      <th>502</th>\n",
              "      <td>51.708168</td>\n",
              "      <td>52.407001</td>\n",
              "    </tr>\n",
              "    <tr>\n",
              "      <th>503</th>\n",
              "      <td>51.790176</td>\n",
              "      <td>52.320000</td>\n",
              "    </tr>\n",
              "  </tbody>\n",
              "</table>\n",
              "<p>504 rows × 2 columns</p>\n",
              "</div>\n",
              "    <div class=\"colab-df-buttons\">\n",
              "\n",
              "  <div class=\"colab-df-container\">\n",
              "    <button class=\"colab-df-convert\" onclick=\"convertToInteractive('df-62df7921-7192-48fa-a0bf-b4576478836c')\"\n",
              "            title=\"Convert this dataframe to an interactive table.\"\n",
              "            style=\"display:none;\">\n",
              "\n",
              "  <svg xmlns=\"http://www.w3.org/2000/svg\" height=\"24px\" viewBox=\"0 -960 960 960\">\n",
              "    <path d=\"M120-120v-720h720v720H120Zm60-500h600v-160H180v160Zm220 220h160v-160H400v160Zm0 220h160v-160H400v160ZM180-400h160v-160H180v160Zm440 0h160v-160H620v160ZM180-180h160v-160H180v160Zm440 0h160v-160H620v160Z\"/>\n",
              "  </svg>\n",
              "    </button>\n",
              "\n",
              "  <style>\n",
              "    .colab-df-container {\n",
              "      display:flex;\n",
              "      gap: 12px;\n",
              "    }\n",
              "\n",
              "    .colab-df-convert {\n",
              "      background-color: #E8F0FE;\n",
              "      border: none;\n",
              "      border-radius: 50%;\n",
              "      cursor: pointer;\n",
              "      display: none;\n",
              "      fill: #1967D2;\n",
              "      height: 32px;\n",
              "      padding: 0 0 0 0;\n",
              "      width: 32px;\n",
              "    }\n",
              "\n",
              "    .colab-df-convert:hover {\n",
              "      background-color: #E2EBFA;\n",
              "      box-shadow: 0px 1px 2px rgba(60, 64, 67, 0.3), 0px 1px 3px 1px rgba(60, 64, 67, 0.15);\n",
              "      fill: #174EA6;\n",
              "    }\n",
              "\n",
              "    .colab-df-buttons div {\n",
              "      margin-bottom: 4px;\n",
              "    }\n",
              "\n",
              "    [theme=dark] .colab-df-convert {\n",
              "      background-color: #3B4455;\n",
              "      fill: #D2E3FC;\n",
              "    }\n",
              "\n",
              "    [theme=dark] .colab-df-convert:hover {\n",
              "      background-color: #434B5C;\n",
              "      box-shadow: 0px 1px 3px 1px rgba(0, 0, 0, 0.15);\n",
              "      filter: drop-shadow(0px 1px 2px rgba(0, 0, 0, 0.3));\n",
              "      fill: #FFFFFF;\n",
              "    }\n",
              "  </style>\n",
              "\n",
              "    <script>\n",
              "      const buttonEl =\n",
              "        document.querySelector('#df-62df7921-7192-48fa-a0bf-b4576478836c button.colab-df-convert');\n",
              "      buttonEl.style.display =\n",
              "        google.colab.kernel.accessAllowed ? 'block' : 'none';\n",
              "\n",
              "      async function convertToInteractive(key) {\n",
              "        const element = document.querySelector('#df-62df7921-7192-48fa-a0bf-b4576478836c');\n",
              "        const dataTable =\n",
              "          await google.colab.kernel.invokeFunction('convertToInteractive',\n",
              "                                                    [key], {});\n",
              "        if (!dataTable) return;\n",
              "\n",
              "        const docLinkHtml = 'Like what you see? Visit the ' +\n",
              "          '<a target=\"_blank\" href=https://colab.research.google.com/notebooks/data_table.ipynb>data table notebook</a>'\n",
              "          + ' to learn more about interactive tables.';\n",
              "        element.innerHTML = '';\n",
              "        dataTable['output_type'] = 'display_data';\n",
              "        await google.colab.output.renderOutput(dataTable, element);\n",
              "        const docLink = document.createElement('div');\n",
              "        docLink.innerHTML = docLinkHtml;\n",
              "        element.appendChild(docLink);\n",
              "      }\n",
              "    </script>\n",
              "  </div>\n",
              "\n",
              "\n",
              "<div id=\"df-5f9ba530-d2cc-4118-a819-d08be4b1578e\">\n",
              "  <button class=\"colab-df-quickchart\" onclick=\"quickchart('df-5f9ba530-d2cc-4118-a819-d08be4b1578e')\"\n",
              "            title=\"Suggest charts\"\n",
              "            style=\"display:none;\">\n",
              "\n",
              "<svg xmlns=\"http://www.w3.org/2000/svg\" height=\"24px\"viewBox=\"0 0 24 24\"\n",
              "     width=\"24px\">\n",
              "    <g>\n",
              "        <path d=\"M19 3H5c-1.1 0-2 .9-2 2v14c0 1.1.9 2 2 2h14c1.1 0 2-.9 2-2V5c0-1.1-.9-2-2-2zM9 17H7v-7h2v7zm4 0h-2V7h2v10zm4 0h-2v-4h2v4z\"/>\n",
              "    </g>\n",
              "</svg>\n",
              "  </button>\n",
              "\n",
              "<style>\n",
              "  .colab-df-quickchart {\n",
              "      --bg-color: #E8F0FE;\n",
              "      --fill-color: #1967D2;\n",
              "      --hover-bg-color: #E2EBFA;\n",
              "      --hover-fill-color: #174EA6;\n",
              "      --disabled-fill-color: #AAA;\n",
              "      --disabled-bg-color: #DDD;\n",
              "  }\n",
              "\n",
              "  [theme=dark] .colab-df-quickchart {\n",
              "      --bg-color: #3B4455;\n",
              "      --fill-color: #D2E3FC;\n",
              "      --hover-bg-color: #434B5C;\n",
              "      --hover-fill-color: #FFFFFF;\n",
              "      --disabled-bg-color: #3B4455;\n",
              "      --disabled-fill-color: #666;\n",
              "  }\n",
              "\n",
              "  .colab-df-quickchart {\n",
              "    background-color: var(--bg-color);\n",
              "    border: none;\n",
              "    border-radius: 50%;\n",
              "    cursor: pointer;\n",
              "    display: none;\n",
              "    fill: var(--fill-color);\n",
              "    height: 32px;\n",
              "    padding: 0;\n",
              "    width: 32px;\n",
              "  }\n",
              "\n",
              "  .colab-df-quickchart:hover {\n",
              "    background-color: var(--hover-bg-color);\n",
              "    box-shadow: 0 1px 2px rgba(60, 64, 67, 0.3), 0 1px 3px 1px rgba(60, 64, 67, 0.15);\n",
              "    fill: var(--button-hover-fill-color);\n",
              "  }\n",
              "\n",
              "  .colab-df-quickchart-complete:disabled,\n",
              "  .colab-df-quickchart-complete:disabled:hover {\n",
              "    background-color: var(--disabled-bg-color);\n",
              "    fill: var(--disabled-fill-color);\n",
              "    box-shadow: none;\n",
              "  }\n",
              "\n",
              "  .colab-df-spinner {\n",
              "    border: 2px solid var(--fill-color);\n",
              "    border-color: transparent;\n",
              "    border-bottom-color: var(--fill-color);\n",
              "    animation:\n",
              "      spin 1s steps(1) infinite;\n",
              "  }\n",
              "\n",
              "  @keyframes spin {\n",
              "    0% {\n",
              "      border-color: transparent;\n",
              "      border-bottom-color: var(--fill-color);\n",
              "      border-left-color: var(--fill-color);\n",
              "    }\n",
              "    20% {\n",
              "      border-color: transparent;\n",
              "      border-left-color: var(--fill-color);\n",
              "      border-top-color: var(--fill-color);\n",
              "    }\n",
              "    30% {\n",
              "      border-color: transparent;\n",
              "      border-left-color: var(--fill-color);\n",
              "      border-top-color: var(--fill-color);\n",
              "      border-right-color: var(--fill-color);\n",
              "    }\n",
              "    40% {\n",
              "      border-color: transparent;\n",
              "      border-right-color: var(--fill-color);\n",
              "      border-top-color: var(--fill-color);\n",
              "    }\n",
              "    60% {\n",
              "      border-color: transparent;\n",
              "      border-right-color: var(--fill-color);\n",
              "    }\n",
              "    80% {\n",
              "      border-color: transparent;\n",
              "      border-right-color: var(--fill-color);\n",
              "      border-bottom-color: var(--fill-color);\n",
              "    }\n",
              "    90% {\n",
              "      border-color: transparent;\n",
              "      border-bottom-color: var(--fill-color);\n",
              "    }\n",
              "  }\n",
              "</style>\n",
              "\n",
              "  <script>\n",
              "    async function quickchart(key) {\n",
              "      const quickchartButtonEl =\n",
              "        document.querySelector('#' + key + ' button');\n",
              "      quickchartButtonEl.disabled = true;  // To prevent multiple clicks.\n",
              "      quickchartButtonEl.classList.add('colab-df-spinner');\n",
              "      try {\n",
              "        const charts = await google.colab.kernel.invokeFunction(\n",
              "            'suggestCharts', [key], {});\n",
              "      } catch (error) {\n",
              "        console.error('Error during call to suggestCharts:', error);\n",
              "      }\n",
              "      quickchartButtonEl.classList.remove('colab-df-spinner');\n",
              "      quickchartButtonEl.classList.add('colab-df-quickchart-complete');\n",
              "    }\n",
              "    (() => {\n",
              "      let quickchartButtonEl =\n",
              "        document.querySelector('#df-5f9ba530-d2cc-4118-a819-d08be4b1578e button');\n",
              "      quickchartButtonEl.style.display =\n",
              "        google.colab.kernel.accessAllowed ? 'block' : 'none';\n",
              "    })();\n",
              "  </script>\n",
              "</div>\n",
              "\n",
              "  <div id=\"id_15449e14-ecbf-4590-bdb1-ede91e0b81a7\">\n",
              "    <style>\n",
              "      .colab-df-generate {\n",
              "        background-color: #E8F0FE;\n",
              "        border: none;\n",
              "        border-radius: 50%;\n",
              "        cursor: pointer;\n",
              "        display: none;\n",
              "        fill: #1967D2;\n",
              "        height: 32px;\n",
              "        padding: 0 0 0 0;\n",
              "        width: 32px;\n",
              "      }\n",
              "\n",
              "      .colab-df-generate:hover {\n",
              "        background-color: #E2EBFA;\n",
              "        box-shadow: 0px 1px 2px rgba(60, 64, 67, 0.3), 0px 1px 3px 1px rgba(60, 64, 67, 0.15);\n",
              "        fill: #174EA6;\n",
              "      }\n",
              "\n",
              "      [theme=dark] .colab-df-generate {\n",
              "        background-color: #3B4455;\n",
              "        fill: #D2E3FC;\n",
              "      }\n",
              "\n",
              "      [theme=dark] .colab-df-generate:hover {\n",
              "        background-color: #434B5C;\n",
              "        box-shadow: 0px 1px 3px 1px rgba(0, 0, 0, 0.15);\n",
              "        filter: drop-shadow(0px 1px 2px rgba(0, 0, 0, 0.3));\n",
              "        fill: #FFFFFF;\n",
              "      }\n",
              "    </style>\n",
              "    <button class=\"colab-df-generate\" onclick=\"generateWithVariable('comparison')\"\n",
              "            title=\"Generate code using this dataframe.\"\n",
              "            style=\"display:none;\">\n",
              "\n",
              "  <svg xmlns=\"http://www.w3.org/2000/svg\" height=\"24px\"viewBox=\"0 0 24 24\"\n",
              "       width=\"24px\">\n",
              "    <path d=\"M7,19H8.4L18.45,9,17,7.55,7,17.6ZM5,21V16.75L18.45,3.32a2,2,0,0,1,2.83,0l1.4,1.43a1.91,1.91,0,0,1,.58,1.4,1.91,1.91,0,0,1-.58,1.4L9.25,21ZM18.45,9,17,7.55Zm-12,3A5.31,5.31,0,0,0,4.9,8.1,5.31,5.31,0,0,0,1,6.5,5.31,5.31,0,0,0,4.9,4.9,5.31,5.31,0,0,0,6.5,1,5.31,5.31,0,0,0,8.1,4.9,5.31,5.31,0,0,0,12,6.5,5.46,5.46,0,0,0,6.5,12Z\"/>\n",
              "  </svg>\n",
              "    </button>\n",
              "    <script>\n",
              "      (() => {\n",
              "      const buttonEl =\n",
              "        document.querySelector('#id_15449e14-ecbf-4590-bdb1-ede91e0b81a7 button.colab-df-generate');\n",
              "      buttonEl.style.display =\n",
              "        google.colab.kernel.accessAllowed ? 'block' : 'none';\n",
              "\n",
              "      buttonEl.onclick = () => {\n",
              "        google.colab.notebook.generateWithVariable('comparison');\n",
              "      }\n",
              "      })();\n",
              "    </script>\n",
              "  </div>\n",
              "\n",
              "    </div>\n",
              "  </div>\n"
            ],
            "text/plain": [
              "     Predicted Price  Orginal Price\n",
              "0          38.767849      37.944000\n",
              "1          38.178318      37.091999\n",
              "2          37.407669      37.129002\n",
              "3          37.567200      37.181000\n",
              "4          37.658657      36.319500\n",
              "..               ...            ...\n",
              "499        52.425808      53.006001\n",
              "500        52.228222      52.837002\n",
              "501        52.099201      52.468498\n",
              "502        51.708168      52.407001\n",
              "503        51.790176      52.320000\n",
              "\n",
              "[504 rows x 2 columns]"
            ]
          },
          "execution_count": 81,
          "metadata": {},
          "output_type": "execute_result"
        }
      ],
      "source": [
        "comparison.insert(1,\"Orginal Price\",Ytest_inv)\n",
        "comparison"
      ]
    },
    {
      "cell_type": "code",
      "execution_count": 82,
      "metadata": {
        "colab": {
          "base_uri": "https://localhost:8080/",
          "height": 622
        },
        "id": "pebwDRxZg8uu",
        "outputId": "5d84bed8-7161-4a38-ce51-92ca327d1e7a"
      },
      "outputs": [
        {
          "data": {
            "image/png": "[encoded data removed]",
            "text/plain": [
              "<Figure size 1200x700 with 1 Axes>"
            ]
          },
          "metadata": {},
          "output_type": "display_data"
        }
      ],
      "source": [
        "plt.figure(figsize=(12,7))\n",
        "plt.plot(comparison['Predicted Price'],label='Predicted',color='r')\n",
        "plt.plot(comparison['Orginal Price'],label='Test Data',color='g')\n",
        "plt.legend()\n",
        "plt.title(\"A closer look at the Test data and its predicted values\")\n",
        "plt.show()"
      ]
    },
    {
      "cell_type": "code",
      "execution_count": 82,
      "metadata": {
        "id": "J16e5p3GhU9o"
      },
      "outputs": [],
      "source": []
    },
    {
      "cell_type": "code",
      "execution_count": 83,
      "metadata": {
        "colab": {
          "base_uri": "https://localhost:8080/"
        },
        "id": "YbdCwcpJhinq",
        "outputId": "396b4e2b-42aa-407f-d54c-a0be886c6eb0"
      },
      "outputs": [
        {
          "data": {
            "text/plain": [
              "(1864, 1)"
            ]
          },
          "execution_count": 83,
          "metadata": {},
          "output_type": "execute_result"
        }
      ],
      "source": [
        "Predicted_Train.shape"
      ]
    },
    {
      "cell_type": "code",
      "execution_count": 84,
      "metadata": {
        "colab": {
          "base_uri": "https://localhost:8080/"
        },
        "id": "U8VQY1qAhirC",
        "outputId": "2fc10ee9-2574-46b1-b57d-fcf3f8d16746"
      },
      "outputs": [
        {
          "data": {
            "text/plain": [
              "1864"
            ]
          },
          "execution_count": 84,
          "metadata": {},
          "output_type": "execute_result"
        }
      ],
      "source": [
        "len_training_data-prev_data"
      ]
    },
    {
      "cell_type": "markdown",
      "metadata": {},
      "source": [
        "Below, I made an array in such a way that it contains same number of datapoints as the original data, and added the training datapoints in their respective position, and left all other datapoints as nan values. SImilarly i repeated the same with the testing points, so that i could compare my stock prices using a plot."
      ]
    },
    {
      "cell_type": "code",
      "execution_count": 85,
      "metadata": {
        "colab": {
          "base_uri": "https://localhost:8080/"
        },
        "id": "4eUCZWu8nn9p",
        "outputId": "3301c53a-071b-43e1-fe02-9654c0719929"
      },
      "outputs": [
        {
          "data": {
            "text/plain": [
              "array([[nan],\n",
              "       [nan],\n",
              "       [nan],\n",
              "       ...,\n",
              "       [nan],\n",
              "       [nan],\n",
              "       [nan]])"
            ]
          },
          "execution_count": 85,
          "metadata": {},
          "output_type": "execute_result"
        }
      ],
      "source": [
        "original_data = data.reshape(-1,1)\n",
        "\n",
        "train_plot = np.empty_like(original_data)\n",
        "train_plot[:,:] = np.nan\n",
        "train_plot[prev_data:len_training_data,:] = Predicted_Train\n",
        "train_plot"
      ]
    },
    {
      "cell_type": "code",
      "execution_count": 86,
      "metadata": {
        "id": "-cG7f8wro_a3"
      },
      "outputs": [],
      "source": [
        "test_plot = np.empty_like(original_data)\n",
        "test_plot[:,:] = np.nan\n",
        "test_plot[len_training_data:,:] = Predicted_Test"
      ]
    },
    {
      "cell_type": "code",
      "execution_count": 87,
      "metadata": {
        "colab": {
          "base_uri": "https://localhost:8080/",
          "height": 622
        },
        "id": "K9_EJisyoR_1",
        "outputId": "f9ae0aa0-180f-4c82-f857-42a8c4cdce5e"
      },
      "outputs": [
        {
          "data": {
            "image/png": "[encoded data removed]",
            "text/plain": [
              "<Figure size 1200x700 with 1 Axes>"
            ]
          },
          "metadata": {},
          "output_type": "display_data"
        }
      ],
      "source": [
        "plt.figure(figsize=(12,7))\n",
        "plt.plot(original_data,label='Actual_Closing_Price',color='g')\n",
        "plt.plot(train_plot,label='Trained_Prediction',color='b')\n",
        "plt.plot(test_plot,label='Tested_Prediction',color='r')\n",
        "plt.legend()\n",
        "plt.title(\"Original and the Predicted Data\")\n",
        "plt.show()"
      ]
    },
    {
      "cell_type": "markdown",
      "metadata": {},
      "source": [
        "The above plot shows that the predictions were almost close with the original prices.\n",
        "Hence we can use LSTM model for building a stock price prediction model which produces the prices with high precision."
      ]
    },
    {
      "cell_type": "code",
      "execution_count": 87,
      "metadata": {
        "id": "vyMF_KZro7qo"
      },
      "outputs": [],
      "source": []
    }
  ],
  "metadata": {
    "colab": {
      "provenance": []
    },
    "kernelspec": {
      "display_name": "Python 3",
      "name": "python3"
    },
    "language_info": {
      "name": "python"
    }
  },
  "nbformat": 4,
  "nbformat_minor": 0
}
